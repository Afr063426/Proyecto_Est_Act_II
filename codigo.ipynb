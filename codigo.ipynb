{
  "cells": [
    {
      "cell_type": "code",
      "execution_count": 3,
      "metadata": {},
      "outputs": [
        {
          "name": "stderr",
          "output_type": "stream",
          "text": [
            "c:\\Users\\sabat\\AppData\\Local\\Programs\\Python\\Python310\\lib\\site-packages\\IPython\\core\\interactiveshell.py:3397: FutureWarning: In a future version of pandas all arguments of read_csv except for the argument 'filepath_or_buffer' will be keyword-only.\n",
            "  exec(code_obj, self.user_global_ns, self.user_ns)\n"
          ]
        }
      ],
      "source": [
        "##We load the packages used at the work\n",
        "##We are going to use as rule pd for Pandas\n",
        "##If you are going to use Matplotlib, Numpy or\n",
        "##other, you should search how to name them \n",
        "## as rule.\n",
        "##For keep the order you can use prettier\n",
        "## in vscode\n",
        "\n",
        "\n",
        "##Pandas is similar to tidyverse\n",
        "import pandas as pd \n",
        "import numpy as np\n",
        "import matplotlib.pyplot as plt\n",
        "\n",
        "import seaborn as sns\n",
        "##The next package is used to format tables\n",
        "##In the next lines you can watch how to use it\n",
        "from tabulate import tabulate\n",
        "from sklearn import svm\n",
        "from sklearn import metrics\n",
        "\n",
        "from sklearn.ensemble import RandomForestClassifier\n",
        "from sklearn.metrics import RocCurveDisplay\n",
        "from sklearn.datasets import load_wine\n",
        "from sklearn.model_selection import train_test_split\n",
        "\n",
        "\n",
        "from sklearn.metrics import confusion_matrix\n",
        "from sklearn.metrics import ConfusionMatrixDisplay\n",
        "\n",
        "from sklearn import preprocessing\n",
        "from numpy import mean\n",
        "from sklearn.datasets import make_classification\n",
        "from sklearn.model_selection import cross_val_score\n",
        "from sklearn.model_selection import RepeatedStratifiedKFold\n",
        "\n",
        "##La tabla que vamos a emplear es esta, las demás han\n",
        "##sido eliminadas\n",
        "file=\"SouthGermanCredit.asc\"\n",
        "data=pd.read_csv(file,\" \")\n",
        "\n",
        "##We are going to change the name of the variables \n",
        "##because in German is difficult to us work.\n",
        "names={'laufkont':'Status',\n",
        "        'laufzeit':'Duracion',\n",
        "        'moral':'Historial_Crediticio',\n",
        "        'verw':'Proposito',\n",
        "        'hoehe':'Monto',\n",
        "        'sparkont':'Ahorros',\n",
        "        'beszeit':'Tiempo_trabajando',\n",
        "        'rate':'Porcentaje_salario',\n",
        "        'famges':'Estado_civil_sexo',\n",
        "        'buerge':'Otros_deudores',\n",
        "        'wohnzeit':'Residencia',\n",
        "        'verm':'Propiedad_valiosa',\n",
        "        'alter':'Edad',\n",
        "        'weitkred':'Otras_deudas',\n",
        "        'wohn':'Residencia',\n",
        "        'bishkred':'Creditos_banco',\n",
        "        'beruf':'Empleo',\n",
        "        'pers':'Personas_dependientes',\n",
        "        'telef':'Telefono',\n",
        "        'gastarb':'Extranjero',\n",
        "        'kredit':'Default',}\n",
        "\n",
        "\n",
        "data.rename(columns=names,inplace=True)\n",
        "#print(data.head(5))\n",
        "#print(tabulate(data.head(5),headers='keys',tablefmt='latex_longtable'))\n",
        "data.to_csv(\"datos.csv\")"
      ]
    },
    {
      "cell_type": "code",
      "execution_count": null,
      "metadata": {},
      "outputs": [],
      "source": [
        "##It's contructed a table of min and max of all to know if \n",
        "##the data doesn't have mistakes\n",
        "data_1=data.agg(['min','max'])\n",
        "print(tabulate(data_1.transpose(),headers='keys',tablefmt='latex_longtable'))"
      ]
    },
    {
      "cell_type": "code",
      "execution_count": null,
      "metadata": {},
      "outputs": [],
      "source": [
        "##We are going to construct the tables\n",
        "##We are going to do a resume of five numbers\n",
        "##Duracion, Monto, Edad\n",
        "##First we select this three columns\n",
        "##This new variable is the data.frame with,\n",
        "##what we want\n",
        "data_2=data[['Duracion','Edad','Monto','Tiempo_trabajando']]\n",
        "\n",
        "summary_2=data_2.describe().transpose()\n",
        "summary_2=summary_2.loc[:,summary_2.columns!='count']\n",
        "\n",
        "\n",
        "\n",
        "print(tabulate(summary_2,headers='keys',tablefmt='latex_longtable'))"
      ]
    },
    {
      "cell_type": "code",
      "execution_count": 5,
      "metadata": {},
      "outputs": [],
      "source": [
        "#We estimate the quartile coefficient of dispersion\n",
        "#summary_2['Coeficiente de dispersion cuartil']=(summary_2['75%']-summary_2['25%'])/(summary_2['75%']+summary_2['25%'])\n",
        "#summary_2['Coeficiente de variacion']=summary_2['std']/summary_2['mean']\n",
        "\n",
        "#print(tabulate(summary_2[['Coeficiente de dispersion cuartial','Coeficiente de variacion']],headers='keys',floatfmt=\".4f\",tablefmt='latex_longtable'))"
      ]
    },
    {
      "cell_type": "code",
      "execution_count": null,
      "metadata": {},
      "outputs": [],
      "source": [
        "##A table count historial and default\n",
        "historial_default=pd.crosstab(index=data['Default'],columns=data['Historial_Crediticio'],margins=True)\n",
        "print(tabulate(historial_default,headers='keys',tablefmt='latex_longtable'))"
      ]
    },
    {
      "cell_type": "code",
      "execution_count": null,
      "metadata": {},
      "outputs": [],
      "source": [
        "##A table count savings and default\n",
        "savings_default=pd.crosstab(index=data['Default'],columns=data['Ahorros'])\n",
        "print(tabulate(savings_default,headers='keys',tablefmt='latex_longtable'))"
      ]
    },
    {
      "cell_type": "markdown",
      "metadata": {},
      "source": [
        "Graficos de analisis descriptivo"
      ]
    },
    {
      "cell_type": "code",
      "execution_count": null,
      "metadata": {},
      "outputs": [],
      "source": [
        "datosG1 = data.loc[:, [\"Monto\", \"Default\"]]\n",
        "datosG2 = [datosG1[datosG1[\"Default\"]==1].Monto, datosG1[datosG1[\"Default\"]==0].Monto]\n",
        "fig, (ax1) = plt.subplots(nrows=1, ncols=1, figsize=(20, 4))\n",
        "\n",
        "# rectangular box plot\n",
        "bplot1 = ax1.boxplot(datosG2,\n",
        "                     vert=False,  # vertical box alignment\n",
        "                     patch_artist=True,  # fill with color\n",
        "                     labels=[\"Incumplió\", \"Cumplió\"],\n",
        "                     widths=(0.75, 0.75))  # will be used to label x-ticks\n",
        "\n",
        "# Add some text for labels, title and custom x-axis tick labels, etc.                \n",
        "#ax1.set_ylabel('Condición del prestamo')\n",
        "ax1.set_xlabel('Monto del préstamo')\n",
        "# fill with colors\n",
        "for patch, color in zip(bplot1['boxes'], [ '#FF6103', '#03A89E']):\n",
        "        patch.set_facecolor(color)\n",
        "\n",
        "#plt.savefig('montos.pdf', bbox_inches='tight')\n",
        "plt.show()\n"
      ]
    },
    {
      "cell_type": "code",
      "execution_count": null,
      "metadata": {},
      "outputs": [],
      "source": [
        "#Hacer que para cada uno de los labels este los defalu, me gusta más\n",
        "datosG1 = data.loc[:, [\"Proposito\", \"Default\"]]\n",
        "datosG1[datosG1[\"Default\"]==1]\n",
        "labels = [\n",
        "    \"Otros\",\n",
        "    \"Carro nuevo\",\n",
        "    \"Carro usado\",\n",
        "    \"Muebles/equipamento\",\n",
        "    \"Radio/televisión\",\n",
        "    \"Ampliación del hogar\",\n",
        "    \"Reparaciones\",\n",
        "    \"Educación\",\n",
        "    \"Vacaciones\",\n",
        "    \"Reentrenamiento\",\n",
        "    \"Trabajo\"\n",
        "]\n",
        "\n",
        "eje1=np.unique(datosG1[datosG1[\"Default\"]==1].Proposito, return_counts=True)\n",
        "eje2=np.unique(datosG1[datosG1[\"Default\"]==0].Proposito, return_counts=True)\n",
        "x = np.arange(len(labels))  # the label locations\n",
        "width = 0.35  # the width of the bars\n",
        "\n",
        "fig, ax = plt.subplots(nrows=1, ncols=1, figsize=(17, 5))\n",
        "rects1 = ax.bar(eje1[0]- width/2 ,eje1[1], width, label='Cumplió', color=[ \"#03A89E\"])\n",
        "rects2 = ax.bar(eje2[0]+ width/2, eje2[1], width, label='Incumplió', color=[\"#FF6103\"])\n",
        "\n",
        "# Add some text for labels, title and custom x-axis tick labels, etc.\n",
        "ax.set_ylabel('Cantidad de préstamos')\n",
        "ax.set_xlabel('Propósito del préstamo')\n",
        "#ax.set_title('Distribución de los motivos por los cuales se solicita un crédito')\n",
        "ax.set_xticks(x)\n",
        "ax.set_xticklabels(labels)\n",
        "ax.legend()\n",
        "\n",
        "def autolabel(rects):\n",
        "    \"\"\"Attach a text label above each bar in *rects*, displaying its height.\"\"\"\n",
        "    for rect in rects:\n",
        "        height = rect.get_height()\n",
        "        ax.annotate('{}'.format(height),\n",
        "                    xy=(rect.get_x() + rect.get_width() / 2, height),\n",
        "                    xytext=(0, 3),  # 3 points vertical offset\n",
        "                    textcoords=\"offset points\",\n",
        "                    ha='center', va='bottom')\n",
        "\n",
        "\n",
        "autolabel(rects1)\n",
        "autolabel(rects2)\n",
        "\n",
        "\n",
        "fig.tight_layout()\n",
        "\n",
        "#plt.savefig('Proposito.pdf', bbox_inches='tight')\n",
        "plt.show()\n"
      ]
    },
    {
      "cell_type": "code",
      "execution_count": null,
      "metadata": {},
      "outputs": [],
      "source": [
        "#Hacer que para cada uno de los labels este los defalu, me gusta más\n",
        "datosG1 = data.loc[:, [\"Extranjero\", \"Default\"]]\n",
        "datosG1[datosG1[\"Default\"]==1]\n",
        "labels = [\"Extranjero\", \"Nacional \"]\n",
        "\n",
        "eje1=np.unique(datosG1[datosG1[\"Default\"]==1].Extranjero, return_counts=True)\n",
        "eje2=np.unique(datosG1[datosG1[\"Default\"]==0].Extranjero, return_counts=True)\n",
        "x = np.arange(len(labels))  # the label locations\n",
        "width = 0.35  # the width of the bars\n",
        "\n",
        "fig, ax = plt.subplots(nrows=1, ncols=1, figsize=(5, 5))\n",
        "rects1 = ax.bar(eje1[0]- width/2 ,eje1[1], width, label='Cumplió', color=[ \"#03A89E\"])\n",
        "rects2 = ax.bar(eje2[0]+ width/2, eje2[1], width, label='Incumplió', color=[ \"#FF6103\"])\n",
        "\n",
        "# Add some text for labels, title and custom x-axis tick labels, etc.\n",
        "ax.set_ylabel('Cantidad de préstamos')\n",
        "ax.set_xlabel('Situación política')\n",
        "#ax.set_title('Distribución de la nacionalidad')\n",
        "ax.set_xticks([1,2])\n",
        "ax.set_xticklabels(labels)\n",
        "ax.legend()\n",
        "\n",
        "def autolabel(rects):\n",
        "    \"\"\"Attach a text label above each bar in *rects*, displaying its height.\"\"\"\n",
        "    for rect in rects:\n",
        "        height = rect.get_height()\n",
        "        ax.annotate('{}'.format(height),\n",
        "                    xy=(rect.get_x() + rect.get_width() / 2, height),\n",
        "                    xytext=(0, 3),  # 3 points vertical offset\n",
        "                    textcoords=\"offset points\",\n",
        "                    ha='center', va='bottom')\n",
        "\n",
        "\n",
        "autolabel(rects1)\n",
        "autolabel(rects2)\n",
        "\n",
        "\n",
        "fig.tight_layout()\n",
        "\n",
        "#plt.savefig('nacionalidad.pdf', bbox_inches='tight')\n",
        "plt.show()\n"
      ]
    },
    {
      "cell_type": "code",
      "execution_count": null,
      "metadata": {},
      "outputs": [],
      "source": [
        "color=[\"#03A89E\",\"#FF6103\"]\n",
        "\n",
        "\n",
        "pd.DataFrame({'Incumplió': data.groupby('Default').get_group(0).Edad,'Cumplió':   data.groupby('Default').get_group(1).Edad}).plot.hist(stacked=True, color = color).axes.get_xaxis()\n",
        "plt.xlabel(\"Edad\")\n",
        "plt.ylabel(\"Frecuencia\")\n",
        "plt.savefig('AgeDistribution.eps', format='eps')\n",
        "plt.show()\n"
      ]
    },
    {
      "cell_type": "code",
      "execution_count": null,
      "metadata": {},
      "outputs": [],
      "source": [
        "pd.DataFrame({'Incumplió': data.groupby('Default').get_group(0).Duracion,'Cumplió':   data.groupby('Default').get_group(1).Duracion}).plot.hist(stacked=True, color = color)\n",
        "plt.xlabel(\"Duración del préstamo (en meses)\")\n",
        "plt.ylabel(\"Frecuencia\")\n",
        "plt.savefig('DurationDistribution.eps', format='eps')\n",
        "plt.show()\n"
      ]
    },
    {
      "cell_type": "code",
      "execution_count": null,
      "metadata": {},
      "outputs": [],
      "source": [
        "data_5=data[['Tiempo_trabajando','Historial_Crediticio','Edad']]\n",
        "\n",
        "data_6= data_5.groupby(['Tiempo_trabajando','Historial_Crediticio'], as_index=False)[\"Edad\"].count()\n",
        "\n",
        "\n",
        "print(data_6)\n",
        "df2=data_6.pivot(index='Historial_Crediticio', columns='Tiempo_trabajando', values='Edad')\n",
        "df2\n",
        "\n",
        "df2.fillna(0)\n",
        "\n",
        "\n",
        "print(df2)\n",
        "\n",
        "sns.heatmap(df2,cmap=\"Blues\")"
      ]
    },
    {
      "cell_type": "code",
      "execution_count": 14,
      "metadata": {},
      "outputs": [],
      "source": [
        "#Before we start we are going to change the model form 0 to -1\n",
        "#data.loc[data.Default==0,'Default']=-1\n",
        "\n",
        "#Here we are going to construct the way in wich we construct the sample\n",
        "#Neverthless what we want to make to this is a model that at this moment have not been programmed so we are going to select the sample dividing the table in two the good and the bads \n",
        "#In this case we are going to select 80% of the good and bads, and also for\n",
        "#20% of training\n",
        "#goods=data[(data['Default']==1)]\n",
        "#bads=data[(data['Default']==-1)]\n",
        "\n",
        "\n",
        "#Presentado\n",
        "#goods_random=goods.sample(n=round(len(goods)*0.8),replace=False)\n",
        "#bads_random=bads.sample(n=round(len(bads)*0.8),replace=False)\n",
        "#train=pd.concat([goods_random,bads_random])\n",
        "#test_random=data.drop(train.index)\n",
        "#X_train=train.drop('Default',1).values.tolist()\n",
        "#Y_train=train[['Default']].values.ravel()\n",
        "#X_test=test_random.drop('Default',1).values.tolist()\n",
        "#Y_test_real=test_random[['Default']].values.ravel()\n",
        "\n",
        "\n"
      ]
    },
    {
      "cell_type": "code",
      "execution_count": 15,
      "metadata": {},
      "outputs": [],
      "source": [
        "#Here we are going to program the svm, but with the four basic kernels,\n",
        "#and with the same gamma\n",
        "#We are going to keep the basic adjustment for in this case\n",
        "#And we compare also it with the proposed by Ben-David and Shalev\n",
        "\n",
        "##Linear, This is not accomplised for our data set\n",
        "#linear_svm=svm.SVC(kernel='linear',probability=True)\n",
        "#linear_svm.fit(X_train,Y_train)\n",
        "\n",
        "##Polynomial of grade 2\n",
        "#poly_svm=svm.SVC(kernel='poly',degree=2,C=97,class_weight=\"balanced\")\n",
        "#poly_svm.fit(X_train,Y_train)\n",
        "\n",
        "##Gaussian Kernel\n",
        "#gauss_svm=svm.SVC(kernel='rbf',C=97,class_weight=\"balanced\")\n",
        "#gauss_svm.fit(X_train,Y_train)\n",
        "\n",
        "##sigmoid\n",
        "#sigm_svm=svm.SVC(kernel='sigmoid',C=96,class_weight=\"balanced\")\n",
        "#sigm_svm.fit(X_train,Y_train)\n"
      ]
    },
    {
      "cell_type": "code",
      "execution_count": 16,
      "metadata": {},
      "outputs": [],
      "source": [
        "# We are going to construct the model here based in the model\n",
        "#presented by Ben-David and Shalev\n",
        "##Polynomial of grade 2\n",
        "\n",
        "#poly_svm_bd=svm.SVC(kernel='poly',degree=2,probability=True,C=1/len(X_test))\n",
        "#poly_svm_bd.fit(X_train,Y_train)\n",
        "\n",
        "##Probando \n",
        "# fit a svm on an imbalanced classification dataset\n",
        "#from numpy import mean\n",
        "#from sklearn.datasets import make_classification\n",
        "#from sklearn.model_selection import cross_val_score\n",
        "#from sklearn.model_selection import RepeatedStratifiedKFold\n",
        "#from sklearn.svm import SVC\n",
        "#cv=RepeatedStratifiedKFold(n_splits=10, n_repeats=3, random_state=1)\n",
        "#scores=cross_val_score(poly_svm,X_train,Y_train,scoring='roc_auc',cv=cv,#n_jobs=-1)\n",
        "#print(mean(scores))\n",
        "\n",
        "\n",
        "##Gaussian Kernel\n",
        "#gauss_svm_bd=svm.SVC(kernel='rbf',probability=True,C=1/len(X_test))\n",
        "#gauss_svm_bd.fit(X_train,Y_train)\n",
        "\n",
        "##sigmoid\n",
        "#sigm_svm_bd=svm.SVC(kernel='sigmoid',probability=True,C=1/len(X_test))\n",
        "#sigm_svm_bd.fit(X_train,Y_train)\n",
        "\n"
      ]
    },
    {
      "cell_type": "code",
      "execution_count": 4,
      "metadata": {},
      "outputs": [
        {
          "name": "stderr",
          "output_type": "stream",
          "text": [
            "C:\\Users\\sabat\\AppData\\Local\\Temp\\ipykernel_6240\\849838282.py:2: FutureWarning: In a future version of pandas all arguments of DataFrame.drop except for the argument 'labels' will be keyword-only.\n",
            "  X=data.drop('Default',1)\n"
          ]
        }
      ],
      "source": [
        "\n",
        "#We preparate the data to be used\n",
        "X=data.drop('Default',1)\n",
        "#X=(X-X.mean())/X.std()\n",
        "X=X.values.tolist()\n",
        "Y=data[['Default']]\n",
        "#We make a set of train and a set of test\n",
        "X_train, X_test, Y_train, Y_test_real=train_test_split(X,Y,test_size=0.2,random_state=7)\n",
        "\n",
        "#We scale the data\n",
        "#scaler_train=preprocessing.StandardScaler().fit(X_train)\n",
        "#X_train=scaler_train.transform(X_train)\n",
        "#scaler_test=preprocessing.StandardScaler().fit(X_test)\n",
        "#X_test=scaler_test.transform(X_test)\n",
        "Y_train=Y_train.values.ravel()\n",
        "Y_test_real=Y_test_real.values.ravel()\n",
        "\n",
        "#We define the kernels\n",
        "kernels=['poly','rbf','sigmoid']\n",
        "#We define crossvalidation\n",
        "cv=RepeatedStratifiedKFold(n_splits=10)\n",
        "#First we select the parameter C by crossvalidation and compare the results for every kernel\n",
        "#We penalize the class with more observatinos\n",
        "C=0\n",
        "best_score=0\n",
        "model=''\n",
        "kernel=[]\n",
        "tolerance=[]\n",
        "scores=[]\n",
        "#paint=[]\n",
        "\n",
        "\n",
        "for j in kernels:\n",
        "    for i in [1,*range(10,110,10)]:\n",
        "        model=svm.SVC(kernel=j,C=i,degree=3,class_weight='balanced')\n",
        "        score = mean(cross_val_score(model, X_train, Y_train, scoring='roc_auc', cv=cv, n_jobs=-1))\n",
        "        kernel.append(j)\n",
        "        tolerance.append(i)\n",
        "        scores.append(score)\n",
        "        #paint.append(color_triad[k]) \n",
        "        if score>best_score:\n",
        "            best_score=score\n",
        "            model=j\n",
        "            C=i\n",
        "print(C,model,best_score)\n"
      ]
    },
    {
      "cell_type": "code",
      "execution_count": 18,
      "metadata": {},
      "outputs": [
        {
          "name": "stderr",
          "output_type": "stream",
          "text": [
            "The PostScript backend does not support transparency; partially transparent artists will be rendered opaque.\n"
          ]
        },
        {
          "data": {
            "image/png": "[encoded data removed]",
            "text/plain": [
              "<Figure size 432x288 with 1 Axes>"
            ]
          },
          "metadata": {
            "needs_background": "light"
          },
          "output_type": "display_data"
        }
      ],
      "source": [
        "#We construct a dataframe to graph the results of cross validation balanced\n",
        "result_cross_val={'Kernel':kernel,'C':tolerance,'AUC':scores}\n",
        "result_cross_val=pd.DataFrame(result_cross_val)\n",
        "#We create the graph\n",
        "color_triad=[\"#03A89E\",\"#FF6103\",'#A80390']\n",
        "k=0\n",
        "groups=result_cross_val.groupby('Kernel')\n",
        "for name, group in groups:\n",
        "    plt.plot(group['C'],group['AUC'],marker='o',linestyle='solid', color= color_triad[k],label=kernels[k])\n",
        "    k=k+1\n",
        "plt.legend(loc='upper right')\n",
        "plt.xlabel('C')\n",
        "plt.ylabel('AUC promedio')\n",
        "#result_cross_val.set_index('C',inplace=True)\n",
        "#result_cross_val.groupby('Kernel')['AUC'].plot(legend=True)\n",
        "plt.savefig(\"AUC_cross_v_b.eps\", format=\"eps\")"
      ]
    },
    {
      "cell_type": "code",
      "execution_count": 19,
      "metadata": {},
      "outputs": [
        {
          "name": "stdout",
          "output_type": "stream",
          "text": [
            "90 SVC(C=100, kernel='sigmoid') 0.7156862434619158\n"
          ]
        }
      ],
      "source": [
        "C=0\n",
        "best_score=0\n",
        "model=''\n",
        "kernel=[]\n",
        "tolerance=[]\n",
        "scores=[]\n",
        "#paint=[]\n",
        "\n",
        "for j in kernels:\n",
        "    for i in [1,*range(10,110,10)]:\n",
        "        model=svm.SVC(kernel=j,C=i,degree=3)\n",
        "        score = mean(cross_val_score(model, X_train, Y_train, scoring='roc_auc', cv=cv, n_jobs=-1))\n",
        "        kernel.append(j)\n",
        "        tolerance.append(i)\n",
        "        scores.append(score)\n",
        "        #paint.append(color_triad[k]) \n",
        "        if score>best_score:\n",
        "            best_score=score\n",
        "            model=j\n",
        "            C=i\n",
        "print(C,model,best_score)"
      ]
    },
    {
      "cell_type": "code",
      "execution_count": 20,
      "metadata": {},
      "outputs": [
        {
          "name": "stderr",
          "output_type": "stream",
          "text": [
            "The PostScript backend does not support transparency; partially transparent artists will be rendered opaque.\n"
          ]
        },
        {
          "data": {
            "image/png": "[encoded data removed]",
            "text/plain": [
              "<Figure size 432x288 with 1 Axes>"
            ]
          },
          "metadata": {
            "needs_background": "light"
          },
          "output_type": "display_data"
        }
      ],
      "source": [
        "#We construct a dataframe to graph the results of cross validation unbalanced\n",
        "result_cross_val={'Kernel':kernel,'C':tolerance,'AUC':scores}\n",
        "result_cross_val=pd.DataFrame(result_cross_val)\n",
        "#We create the graph\n",
        "color_triad=[\"#03A89E\",\"#FF6103\",'#A80390']\n",
        "k=0\n",
        "groups=result_cross_val.groupby('Kernel')\n",
        "for name, group in groups:\n",
        "    plt.plot(group['C'],group['AUC'],marker='o',linestyle='solid', color= color_triad[k],label=kernels[k])\n",
        "    k=k+1\n",
        "plt.legend(loc='upper right')\n",
        "plt.xlabel('C')\n",
        "plt.ylabel('AUC promedio')\n",
        "#result_cross_val.set_index('C',inplace=True)\n",
        "#result_cross_val.groupby('Kernel')['AUC'].plot(legend=True)\n",
        "plt.savefig(\"AUC_cross_v_ub.eps\", format=\"eps\")"
      ]
    },
    {
      "cell_type": "code",
      "execution_count": 21,
      "metadata": {},
      "outputs": [],
      "source": [
        "#confusion matrix\n",
        "\n",
        "def confusion(modelo):\n",
        "    fig, ax = plt.subplots(figsize=(5, 5))\n",
        "    Predicciones=modelo.predict(X_test)\n",
        "    fir_matrix=confusion_matrix(Y_test_real, Predicciones, labels=[1,0])\n",
        "    matrix_conf=ConfusionMatrixDisplay(fir_matrix, display_labels=['V','F'])\n",
        "    matrix_conf.plot(colorbar=False, ax=ax, cmap=\"Blues\")\n",
        "    matrix_conf.ax_.set(xlabel='Predicciones', ylabel='Datos verdaderos')\n",
        "    matrix_conf.ax_.set_title(\"Matriz de confusión\")"
      ]
    },
    {
      "cell_type": "code",
      "execution_count": 22,
      "metadata": {},
      "outputs": [],
      "source": [
        "#ROC and AUC\n",
        "def curvasROC(modelo):\n",
        "    Predicciones =modelo.predict(X_test)\n",
        "    tn, fp, fn, tp = confusion_matrix(Y_test_real,Predicciones).ravel()\n",
        "    tpr=tp/(tp+fn)\n",
        "    fpr=fp/(fp+tn)\n",
        "    roc_auc = metrics.auc(([0., fpr, 1.]),([0., tpr, 1.]))\n",
        "\n",
        "    fig, ax = plt.subplots(figsize=(5, 5))\n",
        "    Probabilistico=RocCurveDisplay.from_estimator(modelo, X_test,\n",
        "     Y_test_real, color= \"#FF6103\" , ax = ax, name = \"ROC probabilística\")\n",
        "\n",
        "    display=RocCurveDisplay(fpr=([0., fpr, 1.]), tpr=([0., tpr, 1.]),  roc_auc=roc_auc,\n",
        "                                   estimator_name='ROC puntual')\n",
        "    display.plot(color=\"#03A89E\",ax=ax)\n",
        "\n",
        "    plt.plot([0, 1], [0, 1], color=\"navy\", lw=1, linestyle=\"--\")  \n",
        "    plt.scatter(fpr, tpr, color =\"#03A89E\" )\n",
        "    plt.xlabel(\"1-Especificidad\")\n",
        "    plt.ylabel(\"Sensibilidad\")\n",
        "    plt.title(\"Curva ROC y valor AUC\")"
      ]
    },
    {
      "cell_type": "code",
      "execution_count": 23,
      "metadata": {},
      "outputs": [
        {
          "name": "stderr",
          "output_type": "stream",
          "text": [
            "The PostScript backend does not support transparency; partially transparent artists will be rendered opaque.\n"
          ]
        },
        {
          "data": {
            "image/png": "[encoded data removed]",
            "text/plain": [
              "<Figure size 360x360 with 1 Axes>"
            ]
          },
          "metadata": {
            "needs_background": "light"
          },
          "output_type": "display_data"
        },
        {
          "data": {
            "image/png": "[encoded data removed]",
            "text/plain": [
              "<Figure size 360x360 with 1 Axes>"
            ]
          },
          "metadata": {
            "needs_background": "light"
          },
          "output_type": "display_data"
        }
      ],
      "source": [
        "#We take the model with rbf kernel and parameter and graph the roc curve and confusion matrix\n",
        "svm_rbf=svm.SVC(kernel='rbf',probability=True,C=1,class_weight='balanced')\n",
        "svm_rbf.fit(X_train,Y_train)\n",
        "curvasROC(svm_rbf)\n",
        "plt.savefig(\"AUC_prediccion.eps\", format=\"eps\")\n",
        "confusion(svm_rbf)\n",
        "plt.savefig(\"matriz_confusion.eps\", format=\"eps\")"
      ]
    },
    {
      "cell_type": "code",
      "execution_count": 24,
      "metadata": {},
      "outputs": [
        {
          "ename": "NameError",
          "evalue": "name 'poly_svm' is not defined",
          "output_type": "error",
          "traceback": [
            "\u001b[1;31m---------------------------------------------------------------------------\u001b[0m",
            "\u001b[1;31mNameError\u001b[0m                                 Traceback (most recent call last)",
            "\u001b[1;32mc:\\Users\\sabat\\Desktop\\Trabajos\\2022\\UCR\\I Semestre\\Estadistica\\Proyecto_Est_Act_II\\codigo.ipynb Cell 24'\u001b[0m in \u001b[0;36m<cell line: 2>\u001b[1;34m()\u001b[0m\n\u001b[0;32m      <a href='vscode-notebook-cell:/c%3A/Users/sabat/Desktop/Trabajos/2022/UCR/I%20Semestre/Estadistica/Proyecto_Est_Act_II/codigo.ipynb#ch0000023?line=0'>1</a>\u001b[0m \u001b[39m##Polynomial of grade 2\u001b[39;00m\n\u001b[1;32m----> <a href='vscode-notebook-cell:/c%3A/Users/sabat/Desktop/Trabajos/2022/UCR/I%20Semestre/Estadistica/Proyecto_Est_Act_II/codigo.ipynb#ch0000023?line=1'>2</a>\u001b[0m confusion(poly_svm)\n\u001b[0;32m      <a href='vscode-notebook-cell:/c%3A/Users/sabat/Desktop/Trabajos/2022/UCR/I%20Semestre/Estadistica/Proyecto_Est_Act_II/codigo.ipynb#ch0000023?line=2'>3</a>\u001b[0m \u001b[39m#plt.savefig(\"MCGrado2Normal.eps\", format=\"eps\")\u001b[39;00m\n\u001b[0;32m      <a href='vscode-notebook-cell:/c%3A/Users/sabat/Desktop/Trabajos/2022/UCR/I%20Semestre/Estadistica/Proyecto_Est_Act_II/codigo.ipynb#ch0000023?line=3'>4</a>\u001b[0m curvasROC(poly_svm)\n",
            "\u001b[1;31mNameError\u001b[0m: name 'poly_svm' is not defined"
          ]
        }
      ],
      "source": [
        "##Polynomial of grade 2\n",
        "confusion(poly_svm)\n",
        "#plt.savefig(\"MCGrado2Normal.eps\", format=\"eps\")\n",
        "curvasROC(poly_svm)\n",
        "#plt.savefig(\"ROCGrado2Normal.eps\", format=\"eps\")\n",
        "\n",
        "##Gaussian Kernel\n",
        "confusion(gauss_svm)\n",
        "#plt.savefig(\"MCgaussNormal.eps\", format=\"eps\")\n",
        "curvasROC(gauss_svm)\n",
        "#plt.savefig(\"ROCgaussNormal.eps\", format=\"eps\")\n",
        "\n",
        "##sigmoid\n",
        "confusion(sigm_svm)\n",
        "#plt.savefig(\"MCsigmNormal.eps\", format=\"eps\")\n",
        "curvasROC(sigm_svm)\n",
        "#plt.savefig(\"ROCsigmNormal.eps\", format=\"eps\")\n",
        "\n",
        "#presented by Ben-David and Shalev\n",
        "##Polynomial of grade 2\n",
        "#confusion(poly_svm_bd)\n",
        "#plt.savefig(\"MCGrado2BD.eps\", format=\"eps\")\n",
        "#curvasROC(poly_svm_bd)\n",
        "#plt.savefig(\"ROCGrado2BD.eps\", format=\"eps\")\n",
        "\n",
        "##Gaussian Kernel\n",
        "#confusion(gauss_svm_bd)\n",
        "#plt.savefig(\"MCgaussBD.eps\", format=\"eps\")\n",
        "#curvasROC(gauss_svm_bd)\n",
        "#plt.savefig(\"ROCgaussBD.eps\", format=\"eps\")\n",
        "\n",
        "##sigmoid\n",
        "#confusion(sigm_svm_bd)\n",
        "#plt.savefig(\"MCsigmBD.eps\", format=\"eps\")\n",
        "#curvasROC(sigm_svm_bd)\n",
        "#plt.savefig(\"ROCsigmBD.eps\", format=\"eps\")\n",
        "#para ver si funciona X2\n",
        "#Cambio vacio para ver si se descarga lo de moises"
      ]
    },
    {
      "cell_type": "code",
      "execution_count": 5,
      "metadata": {},
      "outputs": [
        {
          "name": "stderr",
          "output_type": "stream",
          "text": [
            "c:\\Users\\sabat\\AppData\\Local\\Programs\\Python\\Python310\\lib\\site-packages\\sklearn\\linear_model\\_logistic.py:444: ConvergenceWarning: lbfgs failed to converge (status=1):\n",
            "STOP: TOTAL NO. of ITERATIONS REACHED LIMIT.\n",
            "\n",
            "Increase the number of iterations (max_iter) or scale the data as shown in:\n",
            "    https://scikit-learn.org/stable/modules/preprocessing.html\n",
            "Please also refer to the documentation for alternative solver options:\n",
            "    https://scikit-learn.org/stable/modules/linear_model.html#logistic-regression\n",
            "  n_iter_i = _check_optimize_result(\n"
          ]
        }
      ],
      "source": [
        "from sklearn.linear_model import LogisticRegression\n",
        "logreg = LogisticRegression()\n",
        "logreg.fit(X_train,Y_train)\n",
        "y_pred=logreg.predict(X_test)"
      ]
    },
    {
      "cell_type": "code",
      "execution_count": 6,
      "metadata": {},
      "outputs": [
        {
          "ename": "AttributeError",
          "evalue": "'tuple' object has no attribute 'figure'",
          "output_type": "error",
          "traceback": [
            "\u001b[1;31m---------------------------------------------------------------------------\u001b[0m",
            "\u001b[1;31mAttributeError\u001b[0m                            Traceback (most recent call last)",
            "\u001b[1;32mc:\\Users\\sabat\\Desktop\\Trabajos\\2022\\UCR\\I Semestre\\Estadistica\\Proyecto_Est_Act_II\\codigo.ipynb Celda 26\u001b[0m in \u001b[0;36m<cell line: 7>\u001b[1;34m()\u001b[0m\n\u001b[0;32m      <a href='vscode-notebook-cell:/c%3A/Users/sabat/Desktop/Trabajos/2022/UCR/I%20Semestre/Estadistica/Proyecto_Est_Act_II/codigo.ipynb#ch0000025?line=4'>5</a>\u001b[0m cnf_matrix \u001b[39m=\u001b[39m metrics\u001b[39m.\u001b[39mconfusion_matrix(Y_test_real, y_pred)\n\u001b[0;32m      <a href='vscode-notebook-cell:/c%3A/Users/sabat/Desktop/Trabajos/2022/UCR/I%20Semestre/Estadistica/Proyecto_Est_Act_II/codigo.ipynb#ch0000025?line=5'>6</a>\u001b[0m cnf_matrix\u001b[39m=\u001b[39mConfusionMatrixDisplay(cnf_matrix, display_labels\u001b[39m=\u001b[39m[\u001b[39m'\u001b[39m\u001b[39mV\u001b[39m\u001b[39m'\u001b[39m,\u001b[39m'\u001b[39m\u001b[39mF\u001b[39m\u001b[39m'\u001b[39m])\n\u001b[1;32m----> <a href='vscode-notebook-cell:/c%3A/Users/sabat/Desktop/Trabajos/2022/UCR/I%20Semestre/Estadistica/Proyecto_Est_Act_II/codigo.ipynb#ch0000025?line=6'>7</a>\u001b[0m cnf_matrix\u001b[39m.\u001b[39;49mplot(colorbar\u001b[39m=\u001b[39;49m\u001b[39mFalse\u001b[39;49;00m, ax\u001b[39m=\u001b[39;49max, cmap\u001b[39m=\u001b[39;49m\u001b[39m\"\u001b[39;49m\u001b[39mBlues\u001b[39;49m\u001b[39m\"\u001b[39;49m)\n\u001b[0;32m      <a href='vscode-notebook-cell:/c%3A/Users/sabat/Desktop/Trabajos/2022/UCR/I%20Semestre/Estadistica/Proyecto_Est_Act_II/codigo.ipynb#ch0000025?line=7'>8</a>\u001b[0m cnf_matrix\u001b[39m.\u001b[39max_\u001b[39m.\u001b[39mset(xlabel\u001b[39m=\u001b[39m\u001b[39m'\u001b[39m\u001b[39mPredicciones\u001b[39m\u001b[39m'\u001b[39m, ylabel\u001b[39m=\u001b[39m\u001b[39m'\u001b[39m\u001b[39mDatos verdaderos\u001b[39m\u001b[39m'\u001b[39m)\n\u001b[0;32m      <a href='vscode-notebook-cell:/c%3A/Users/sabat/Desktop/Trabajos/2022/UCR/I%20Semestre/Estadistica/Proyecto_Est_Act_II/codigo.ipynb#ch0000025?line=8'>9</a>\u001b[0m cnf_matrix\u001b[39m.\u001b[39max_\u001b[39m.\u001b[39mset_title(\u001b[39m\"\u001b[39m\u001b[39mMatriz de confusión\u001b[39m\u001b[39m\"\u001b[39m)\n",
            "File \u001b[1;32mc:\\Users\\sabat\\AppData\\Local\\Programs\\Python\\Python310\\lib\\site-packages\\sklearn\\metrics\\_plot\\confusion_matrix.py:131\u001b[0m, in \u001b[0;36mConfusionMatrixDisplay.plot\u001b[1;34m(self, include_values, cmap, xticks_rotation, values_format, ax, colorbar, im_kw)\u001b[0m\n\u001b[0;32m    129\u001b[0m     fig, ax \u001b[39m=\u001b[39m plt\u001b[39m.\u001b[39msubplots()\n\u001b[0;32m    130\u001b[0m \u001b[39melse\u001b[39;00m:\n\u001b[1;32m--> 131\u001b[0m     fig \u001b[39m=\u001b[39m ax\u001b[39m.\u001b[39;49mfigure\n\u001b[0;32m    133\u001b[0m cm \u001b[39m=\u001b[39m \u001b[39mself\u001b[39m\u001b[39m.\u001b[39mconfusion_matrix\n\u001b[0;32m    134\u001b[0m n_classes \u001b[39m=\u001b[39m cm\u001b[39m.\u001b[39mshape[\u001b[39m0\u001b[39m]\n",
            "\u001b[1;31mAttributeError\u001b[0m: 'tuple' object has no attribute 'figure'"
          ]
        },
        {
          "data": {
            "image/png": "[encoded data removed]",
            "text/plain": [
              "<Figure size 360x360 with 1 Axes>"
            ]
          },
          "metadata": {
            "needs_background": "light"
          },
          "output_type": "display_data"
        },
        {
          "data": {
            "image/png": "[encoded data removed]",
            "text/plain": [
              "<Figure size 360x360 with 1 Axes>"
            ]
          },
          "metadata": {
            "needs_background": "light"
          },
          "output_type": "display_data"
        }
      ],
      "source": [
        "from sklearn import metrics\n",
        "fig = plt.subplots(figsize=(5, 5))\n",
        "ax = plt.subplots(figsize=(5, 5))\n",
        "y_pred=logreg.predict(X_test)\n",
        "cnf_matrix = metrics.confusion_matrix(Y_test_real, y_pred)\n",
        "cnf_matrix=ConfusionMatrixDisplay(cnf_matrix, display_labels=['V','F'])\n",
        "cnf_matrix.plot(colorbar=False, ax=ax, cmap=\"Blues\")\n",
        "cnf_matrix.ax_.set(xlabel='Predicciones', ylabel='Datos verdaderos')\n",
        "cnf_matrix.ax_.set_title(\"Matriz de confusión\")\n",
        "cnf_matrix"
      ]
    },
    {
      "cell_type": "code",
      "execution_count": 28,
      "metadata": {},
      "outputs": [],
      "source": [
        "def confusion(modelo2):\n",
        "    fig, ax = plt.subplots(figsize=(5, 5))\n",
        "    cnf_matrix=metrics.confusion_matrix(Y_test_real, y_pred, labels=[1,0])\n",
        "    cnf_matrix=ConfusionMatrixDisplay(cnf_matrix, display_labels=['V','F'])\n",
        "    cnf_matrix.plot(colorbar=False, ax=ax, cmap=\"Blues\")\n",
        "    cnf_matrix.ax_.set(xlabel='Predicciones', ylabel='Datos verdaderos')\n",
        "    cnf_matrix.ax_.set_title(\"Matriz de confusión\")\n",
        "    cnf_matrix"
      ]
    },
    {
      "cell_type": "code",
      "execution_count": 3,
      "metadata": {},
      "outputs": [
        {
          "ename": "NameError",
          "evalue": "name 'logreg' is not defined",
          "output_type": "error",
          "traceback": [
            "\u001b[1;31m---------------------------------------------------------------------------\u001b[0m",
            "\u001b[1;31mNameError\u001b[0m                                 Traceback (most recent call last)",
            "\u001b[1;32mc:\\Users\\sabat\\Desktop\\Trabajos\\2022\\UCR\\I Semestre\\Estadistica\\Proyecto_Est_Act_II\\codigo.ipynb Celda 28\u001b[0m in \u001b[0;36m<cell line: 1>\u001b[1;34m()\u001b[0m\n\u001b[1;32m----> <a href='vscode-notebook-cell:/c%3A/Users/sabat/Desktop/Trabajos/2022/UCR/I%20Semestre/Estadistica/Proyecto_Est_Act_II/codigo.ipynb#ch0000027?line=0'>1</a>\u001b[0m y_pred_proba \u001b[39m=\u001b[39m logreg\u001b[39m.\u001b[39mpredict_proba(X_test)[::,\u001b[39m1\u001b[39m]\n\u001b[0;32m      <a href='vscode-notebook-cell:/c%3A/Users/sabat/Desktop/Trabajos/2022/UCR/I%20Semestre/Estadistica/Proyecto_Est_Act_II/codigo.ipynb#ch0000027?line=1'>2</a>\u001b[0m fpr, tpr, _ \u001b[39m=\u001b[39m metrics\u001b[39m.\u001b[39mroc_curve(Y_test_real,  y_pred_proba)\n\u001b[0;32m      <a href='vscode-notebook-cell:/c%3A/Users/sabat/Desktop/Trabajos/2022/UCR/I%20Semestre/Estadistica/Proyecto_Est_Act_II/codigo.ipynb#ch0000027?line=2'>3</a>\u001b[0m auc \u001b[39m=\u001b[39m metrics\u001b[39m.\u001b[39mroc_auc_score(Y_test_real, y_pred_proba)\n",
            "\u001b[1;31mNameError\u001b[0m: name 'logreg' is not defined"
          ]
        }
      ],
      "source": [
        "y_pred_proba = logreg.predict_proba(X_test)[::,1]\n",
        "fpr, tpr, _ = metrics.roc_curve(Y_test_real,  y_pred_proba)\n",
        "auc = metrics.roc_auc_score(Y_test_real, y_pred_proba)\n",
        "plt.plot(fpr,tpr,label=\"Curva ROC, auc=\"+str(auc))\n",
        "plt.legend(loc=4)\n",
        "plt.plot([0, 1], [0, 1], color=\"navy\", lw=1, linestyle=\"--\")  \n",
        "plt.savefig(\"RocCurveLogistic.eps\", format=\"eps\")\n",
        "plt.show()\n",
        "#plt.savefig(\"RocCurveLogistic.eps\", format=\"eps\")\n",
        "\n",
        "\n"
      ]
    },
    {
      "cell_type": "code",
      "execution_count": 7,
      "metadata": {},
      "outputs": [
        {
          "name": "stderr",
          "output_type": "stream",
          "text": [
            "c:\\Users\\sabat\\AppData\\Local\\Programs\\Python\\Python310\\lib\\site-packages\\sklearn\\linear_model\\_logistic.py:444: ConvergenceWarning: lbfgs failed to converge (status=1):\n",
            "STOP: TOTAL NO. of ITERATIONS REACHED LIMIT.\n",
            "\n",
            "Increase the number of iterations (max_iter) or scale the data as shown in:\n",
            "    https://scikit-learn.org/stable/modules/preprocessing.html\n",
            "Please also refer to the documentation for alternative solver options:\n",
            "    https://scikit-learn.org/stable/modules/linear_model.html#logistic-regression\n",
            "  n_iter_i = _check_optimize_result(\n"
          ]
        }
      ],
      "source": [
        "from sklearn.linear_model import LogisticRegression\n",
        "\n",
        "model = LogisticRegression()\n",
        "model = model.fit(X_train,Y_train)"
      ]
    },
    {
      "cell_type": "code",
      "execution_count": 47,
      "metadata": {},
      "outputs": [],
      "source": [
        "def confusion(modelo):\n",
        "    fig, ax = plt.subplots(figsize=(5, 5))\n",
        "    Predicciones=modelo.predict(X_test)\n",
        "    fir_matrix=confusion_matrix(Y_test_real, Predicciones, labels=[1,0])\n",
        "    matrix_conf=ConfusionMatrixDisplay(fir_matrix, display_labels=['V','F'])\n",
        "    matrix_conf.plot(colorbar=False, ax=ax, cmap=\"Blues\")\n",
        "    matrix_conf.ax_.set(xlabel='Predicciones', ylabel='Datos verdaderos')\n",
        "    matrix_conf.ax_.set_title(\"Matriz de confusión\")"
      ]
    },
    {
      "cell_type": "code",
      "execution_count": 48,
      "metadata": {},
      "outputs": [
        {
          "data": {
            "image/png": "[encoded data removed]",
            "text/plain": [
              "<Figure size 360x360 with 1 Axes>"
            ]
          },
          "metadata": {
            "needs_background": "light"
          },
          "output_type": "display_data"
        }
      ],
      "source": [
        "confusion(logreg)\n",
        "plt.savefig(\"confusionmatrixlog.eps\", format=\"eps\")"
      ]
    },
    {
      "cell_type": "code",
      "execution_count": 77,
      "metadata": {},
      "outputs": [],
      "source": [
        "def curvasROC(modelo):\n",
        "    fig, ax = plt.subplots(figsize=(5, 5))\n",
        "    Probabilistico=RocCurveDisplay.from_estimator(modelo, X_test,\n",
        "     Y_test_real, color= \"#FF6103\" , ax = ax, name = \"ROC\")\n",
        "\n",
        "\n",
        "    plt.plot([0, 1], [0, 1], color=\"navy\", lw=1, linestyle=\"--\")  \n",
        "    #plt.scatter(fpr, tpr, color =\"#03A89E\" )\n",
        "    plt.xlabel(\"1-Especificidad\")\n",
        "    plt.ylabel(\"Sensibilidad\")\n",
        "    plt.title(\"Curva ROC y valor AUC\")"
      ]
    },
    {
      "cell_type": "code",
      "execution_count": 78,
      "metadata": {},
      "outputs": [
        {
          "name": "stderr",
          "output_type": "stream",
          "text": [
            "The PostScript backend does not support transparency; partially transparent artists will be rendered opaque.\n"
          ]
        },
        {
          "data": {
            "image/png": "[encoded data removed]",
            "text/plain": [
              "<Figure size 360x360 with 1 Axes>"
            ]
          },
          "metadata": {
            "needs_background": "light"
          },
          "output_type": "display_data"
        }
      ],
      "source": [
        "curvasROC(logreg)\n",
        "plt.savefig(\"ROClog.eps\", format=\"eps\")"
      ]
    },
    {
      "cell_type": "markdown",
      "metadata": {},
      "source": [
        "Punto de corte"
      ]
    },
    {
      "cell_type": "code",
      "execution_count": 8,
      "metadata": {},
      "outputs": [
        {
          "data": {
            "text/plain": [
              "0.3925925925925926"
            ]
          },
          "execution_count": 8,
          "metadata": {},
          "output_type": "execute_result"
        }
      ],
      "source": [
        "y_pred_new_threshold = (logreg.predict_proba(X_test)[:,1]>=0.6326725944408288).astype(int)\n",
        "tn, fp, fn, tp = confusion_matrix(Y_test_real,y_pred_new_threshold).ravel()\n",
        "tpr=tp/(tp+fn)\n",
        "fpr=tn/(tn+fp)\n",
        "youden=fpr+tpr-1\n",
        "youden"
      ]
    },
    {
      "cell_type": "code",
      "execution_count": 84,
      "metadata": {},
      "outputs": [
        {
          "data": {
            "text/plain": [
              "0.3806267806267807"
            ]
          },
          "execution_count": 84,
          "metadata": {},
          "output_type": "execute_result"
        }
      ],
      "source": [
        "y_pred_new_threshold = (logreg.predict_proba(X_test)[:,1]>=0.708646).astype(int)\n",
        "tn, fp, fn, tp = confusion_matrix(Y_test_real,y_pred_new_threshold).ravel()\n",
        "tpr=tp/(tp+fn)\n",
        "fpr=tn/(tn+fp)\n",
        "youden=fpr+tpr-1\n",
        "youden"
      ]
    },
    {
      "cell_type": "code",
      "execution_count": 12,
      "metadata": {},
      "outputs": [
        {
          "data": {
            "text/plain": [
              "Text(0.5, 1.0, 'Matriz de confusión')"
            ]
          },
          "execution_count": 12,
          "metadata": {},
          "output_type": "execute_result"
        },
        {
          "data": {
            "image/png": "[encoded data removed]",
            "text/plain": [
              "<Figure size 360x360 with 1 Axes>"
            ]
          },
          "metadata": {
            "needs_background": "light"
          },
          "output_type": "display_data"
        }
      ],
      "source": [
        "fig, ax = plt.subplots(figsize=(5, 5))\n",
        "Predicciones=(logreg.predict_proba(X_test)[:,1]>=0.6326725944408288).astype(int)\n",
        "fir_matrix=confusion_matrix(Y_test_real, Predicciones, labels=[1,0])\n",
        "matrix_conf=ConfusionMatrixDisplay(fir_matrix, display_labels=['V','F'])\n",
        "matrix_conf.plot(colorbar=False, ax=ax, cmap=\"Blues\")\n",
        "matrix_conf.ax_.set(xlabel='Predicciones', ylabel='Datos verdaderos')\n",
        "matrix_conf.ax_.set_title(\"Matriz de confusión\")\n",
        "plt.savefig(\"MatrixConfuLR.eps\", format=\"eps\")"
      ]
    },
    {
      "cell_type": "code",
      "execution_count": 11,
      "metadata": {},
      "outputs": [
        {
          "name": "stdout",
          "output_type": "stream",
          "text": [
            "0.6326725944408288\n",
            "     fun: -0.3925925925925926\n",
            " message: 'Solution found.'\n",
            "    nfev: 21\n",
            "     nit: 21\n",
            "  status: 0\n",
            " success: True\n",
            "       x: 0.6326725944408288\n",
            "Final Objective: -0.3925925925925926\n"
          ]
        }
      ],
      "source": [
        "import numpy as np\n",
        "import scipy.optimize as ot\n",
        "\n",
        "def objective(x):\n",
        "    y_pred_new_threshold = (logreg.predict_proba(X_test)[:,1]>=x).astype(int)\n",
        "    tn, fp, fn, tp = confusion_matrix(Y_test_real,y_pred_new_threshold).ravel()\n",
        "    tpr=tp/(tp+fn)\n",
        "    fpr=tn/(tn+fp)\n",
        "    youden=fpr+tpr-1\n",
        "    return -youden\n",
        "\n",
        "\n",
        "\n",
        "solution = ot.minimize_scalar(objective,bounds=(0,1), method='bounded')\n",
        "print(solution.x)\n",
        "x = solution.x\n",
        "print(solution)\n",
        "# show final objective\n",
        "print('Final Objective: ' + str(objective(x)))\n",
        "\n",
        "\n"
      ]
    },
    {
      "cell_type": "code",
      "execution_count": 17,
      "metadata": {},
      "outputs": [
        {
          "name": "stderr",
          "output_type": "stream",
          "text": [
            "The PostScript backend does not support transparency; partially transparent artists will be rendered opaque.\n"
          ]
        },
        {
          "data": {
            "image/png": "[encoded data removed]",
            "text/plain": [
              "<Figure size 360x360 with 1 Axes>"
            ]
          },
          "metadata": {
            "needs_background": "light"
          },
          "output_type": "display_data"
        }
      ],
      "source": [
        "#YOUDEN\n",
        "y_pred_new_threshold = (logreg.predict_proba(X_test)[:,1]>=0.6326725944408288).astype(int)\n",
        "tn, fp, fn, tp = confusion_matrix(Y_test_real,y_pred_new_threshold).ravel()\n",
        "tpr=tp/(tp+fn)\n",
        "fpr=tn/(tn+fp)\n",
        "\n",
        "\n",
        "fig, ax = plt.subplots(figsize=(5, 5))\n",
        "Probabilistico=RocCurveDisplay.from_estimator(logreg, X_test,\n",
        "Y_test_real, color= \"#FF6103\" , ax = ax, name = \"ROC\")\n",
        "\n",
        "\n",
        "plt.plot([0, 1], [0, 1], color=\"navy\", lw=1, linestyle=\"--\")  \n",
        "\n",
        "plt.scatter(1-fpr, tpr, color =\"#03A89E\" )\n",
        "plt.xlabel(\"1-Especificidad\")\n",
        "plt.ylabel(\"Sensibilidad\")\n",
        "plt.title(\"Curva ROC y valor AUC\")\n",
        "plt.savefig(\"ROCyAUCLR.eps\", format=\"eps\")"
      ]
    }
  ],
  "metadata": {
    "interpreter": {
      "hash": "b3949b2a0815298b43e106b2343ed63bf66d2539f3471496fd9bd58d189f78b8"
    },
    "kernelspec": {
      "display_name": "Python 3.10.1 64-bit",
      "language": "python",
      "name": "python3"
    },
    "language_info": {
      "codemirror_mode": {
        "name": "ipython",
        "version": 3
      },
      "file_extension": ".py",
      "mimetype": "text/x-python",
      "name": "python",
      "nbconvert_exporter": "python",
      "pygments_lexer": "ipython3",
      "version": "3.10.1"
    },
    "orig_nbformat": 4,
    "vscode": {
      "interpreter": {
        "hash": "32a8d71c4defd0b890fb8929203fa50bb38adab31cac91f56f745da530bb53d5"
      }
    }
  },
  "nbformat": 4,
  "nbformat_minor": 2
}
