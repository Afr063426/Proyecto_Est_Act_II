{
  "cells": [
    {
      "cell_type": "code",
      "execution_count": null,
      "metadata": {},
      "outputs": [],
      "source": [
        "##We load the packages used at the work\n",
        "##We are going to use as rule pd for Pandas\n",
        "##If you are going to use Matplotlib, Numpy or\n",
        "##other, you should search how to name them \n",
        "## as rule.\n",
        "##For keep the order you can use prettier\n",
        "## in vscode\n",
        "\n",
        "\n",
        "##Pandas is similar to tidyverse\n",
        "import pandas as pd \n",
        "import numpy as np\n",
        "import matplotlib.pyplot as plt\n",
        "\n",
        "import seaborn as sns\n",
        "##The next package is used to format tables\n",
        "##In the next lines you can watch how to use it\n",
        "from tabulate import tabulate\n",
        "from sklearn import svm\n",
        "from sklearn import metrics\n",
        "\n",
        "from sklearn.ensemble import RandomForestClassifier\n",
        "from sklearn.metrics import RocCurveDisplay\n",
        "from sklearn.datasets import load_wine\n",
        "from sklearn.model_selection import train_test_split\n",
        "\n",
        "\n",
        "from sklearn.metrics import confusion_matrix\n",
        "from sklearn.metrics import ConfusionMatrixDisplay\n",
        "\n",
        "##La tabla que vamos a emplear es esta, las demás han\n",
        "##sido eliminadas\n",
        "file=\"SouthGermanCredit.asc\"\n",
        "data=pd.read_csv(file,\" \")\n",
        "\n",
        "##We are going to change the name of the variables \n",
        "##because in German is difficult to us work.\n",
        "names={'laufkont':'Status',\n",
        "        'laufzeit':'Duracion',\n",
        "        'moral':'Historial_Crediticio',\n",
        "        'verw':'Proposito',\n",
        "        'hoehe':'Monto',\n",
        "        'sparkont':'Ahorros',\n",
        "        'beszeit':'Tiempo_trabajando',\n",
        "        'rate':'Porcentaje_salario',\n",
        "        'famges':'Estado_civil_sexo',\n",
        "        'buerge':'Otros_deudores',\n",
        "        'wohnzeit':'Residencia',\n",
        "        'verm':'Propiedad_valiosa',\n",
        "        'alter':'Edad',\n",
        "        'weitkred':'Otras_deudas',\n",
        "        'wohn':'Residencia',\n",
        "        'bishkred':'Creditos_banco',\n",
        "        'beruf':'Empleo',\n",
        "        'pers':'Personas_dependientes',\n",
        "        'telef':'Telefono',\n",
        "        'gastarb':'Extranjero',\n",
        "        'kredit':'Default',}\n",
        "\n",
        "\n",
        "data.rename(columns=names,inplace=True)\n",
        "#print(data.head(5))\n",
        "#print(tabulate(data.head(5),headers='keys',tablefmt='latex_longtable'))\n"
      ]
    },
    {
      "cell_type": "code",
      "execution_count": null,
      "metadata": {},
      "outputs": [],
      "source": [
        "##It's contructed a table of min and max of all to know if \n",
        "##the data doesn't have mistakes\n",
        "data_1=data.agg(['min','max'])\n",
        "print(tabulate(data_1.transpose(),headers='keys',tablefmt='latex_longtable'))"
      ]
    },
    {
      "cell_type": "code",
      "execution_count": null,
      "metadata": {},
      "outputs": [],
      "source": [
        "##We are going to construct the tables\n",
        "##We are going to do a resume of five numbers\n",
        "##Duracion, Monto, Edad\n",
        "##First we select this three columns\n",
        "##This new variable is the data.frame with,\n",
        "##what we want\n",
        "data_2=data[['Duracion','Edad','Monto','Tiempo_trabajando']]\n",
        "\n",
        "summary_2=data_2.describe().transpose()\n",
        "summary_2=summary_2.loc[:,summary_2.columns!='count']\n",
        "\n",
        "\n",
        "\n",
        "print(tabulate(summary_2,headers='keys',tablefmt='latex_longtable'))"
      ]
    },
    {
      "cell_type": "code",
      "execution_count": null,
      "metadata": {},
      "outputs": [],
      "source": [
        "#We estimate the quartile coefficient of dispersion\n",
        "#summary_2['Coeficiente de dispersion cuartil']=(summary_2['75%']-summary_2['25%'])/(summary_2['75%']+summary_2['25%'])\n",
        "#summary_2['Coeficiente de variacion']=summary_2['std']/summary_2['mean']\n",
        "\n",
        "#print(tabulate(summary_2[['Coeficiente de dispersion cuartial','Coeficiente de variacion']],headers='keys',floatfmt=\".4f\",tablefmt='latex_longtable'))"
      ]
    },
    {
      "cell_type": "code",
      "execution_count": null,
      "metadata": {},
      "outputs": [],
      "source": [
        "##A table count historial and default\n",
        "historial_default=pd.crosstab(index=data['Default'],columns=data['Historial_Crediticio'],margins=True)\n",
        "print(tabulate(historial_default,headers='keys',tablefmt='latex_longtable'))"
      ]
    },
    {
      "cell_type": "code",
      "execution_count": null,
      "metadata": {},
      "outputs": [],
      "source": [
        "##A table count savings and default\n",
        "savings_default=pd.crosstab(index=data['Default'],columns=data['Ahorros'])\n",
        "print(tabulate(savings_default,headers='keys',tablefmt='latex_longtable'))"
      ]
    },
    {
      "cell_type": "code",
      "execution_count": null,
      "metadata": {},
      "outputs": [],
      "source": [
        "#Before we start we are going to change the model form 0 to -1\n",
        "data.loc[data.Default==0,'Default']=-1\n",
        "\n",
        "#Here we are going to construct the way in wich we construct the sample\n",
        "#Neverthless what we want to make to this is a model that at this moment have not been programmed so we are going to select the sample dividing the table in two the good and the bads \n",
        "#In this case we are going to select 80% of the good and bads, and also for\n",
        "#20% of training\n",
        "goods=data[(data['Default']==1)]\n",
        "bads=data[(data['Default']==-1)]\n",
        "#With this we construct the sample\n",
        "\n",
        "goods_random=goods.sample(n=round(len(goods)*0.8),replace=False)\n",
        "bads_random=bads.sample(n=round(len(bads)*0.8),replace=False)\n",
        "train=pd.concat([goods_random,bads_random])\n",
        "test_random=data.drop(train.index)\n",
        "X_train=train.drop('Default',1).values.tolist()\n",
        "Y_train=train[['Default']]\n",
        "X_test=test_random.drop('Default',1).values.tolist()\n",
        "Y_test_real=test_random[['Default']]\n"
      ]
    },
    {
      "cell_type": "code",
      "execution_count": null,
      "metadata": {},
      "outputs": [],
      "source": [
        "#Here we are going to program the svm, but with the four basic kernels,\n",
        "#and with the same gamma\n",
        "#We are going to keep the basic adjustment for in this case\n",
        "#And we compare also it with the proposed by Ben-David and Shalev\n",
        "\n",
        "##Linear, This is not accomplised for our data set\n",
        "#linear_svm=svm.SVC(kernel='linear',probability=True)\n",
        "#linear_svm.fit(X_train,Y_train)\n",
        "\n",
        "##Polynomial of grade 2\n",
        "poly_svm=svm.SVC(kernel='poly',degree=2,probability=True)\n",
        "poly_svm.fit(X_train,Y_train)\n",
        "\n",
        "\n",
        "\n",
        "##Gaussian Kernel\n",
        "gauss_svm=svm.SVC(kernel='rbf',probability=True)\n",
        "gauss_svm.fit(X_train,Y_train)\n",
        "\n",
        "##sigmoid\n",
        "sigm_svm=svm.SVC(kernel='sigmoid',probability=True)\n",
        "sigm_svm.fit(X_train,Y_train)\n"
      ]
    },
    {
      "cell_type": "code",
      "execution_count": null,
      "metadata": {},
      "outputs": [],
      "source": [
        "# We are going to construct the model here based in the model\n",
        "#presented by Ben-David and Shalev\n",
        "##Polynomial of grade 2\n",
        "poly_svm_bd=svm.SVC(kernel='poly',degree=2,probability=True,C=1/len(test_random))\n",
        "poly_svm_bd.fit(X_train,Y_train)\n",
        "\n",
        "\n",
        "\n",
        "##Gaussian Kernel\n",
        "gauss_svm_bd=svm.SVC(kernel='rbf',probability=True,C=1/len(test_random))\n",
        "gauss_svm_bd.fit(X_train,Y_train)\n",
        "\n",
        "##sigmoid\n",
        "sigm_svm_bd=svm.SVC(kernel='sigmoid',probability=True,C=1/len(test_random))\n",
        "sigm_svm_bd.fit(X_train,Y_train)\n",
        "\n"
      ]
    },
    {
      "cell_type": "code",
      "execution_count": null,
      "metadata": {},
      "outputs": [],
      "source": [
        "#confusion matrix\n",
        "\n",
        "def confusion(modelo):\n",
        "    Predicciones =modelo.predict(test_random.drop('Default',1))\n",
        "    fir_matrix=confusion_matrix(test_random.loc[:,'Default'], Predicciones, labels=[1,-1])\n",
        "    matrix_conf=ConfusionMatrixDisplay(fir_matrix, display_labels=['1','0'])\n",
        "    matrix_conf.plot(colorbar=False)\n",
        "    matrix_conf.ax_.set(xlabel='Predicciones', ylabel='Datos verdaderos')"
      ]
    },
    {
      "cell_type": "code",
      "execution_count": null,
      "metadata": {},
      "outputs": [],
      "source": [
        "#ROC and AUC\n",
        "def curvasROC(modelo):\n",
        "    Predicciones =modelo.predict(test_random.drop('Default',1))\n",
        "    tn, fp, fn, tp = confusion_matrix(test_random.loc[:,'Default'],Predicciones).ravel()\n",
        "    tpr=tp/(tp+fn)\n",
        "    fpr=fp/(fp+tn)\n",
        "    roc_auc = metrics.auc(([0., fpr, 1.]),([0., tpr, 1.]))\n",
        "\n",
        "    fig, ax = plt.subplots()\n",
        "    Probabilistico=RocCurveDisplay.from_estimator(modelo, test_random.drop('Default',1),\n",
        "     test_random.loc[:,'Default'], color= \"#FF6103\" , ax = ax, name = \"ROC probabilística\")\n",
        "\n",
        "    display=RocCurveDisplay(fpr=([0., fpr, 1.]), tpr=([0., tpr, 1.]),  roc_auc=roc_auc,\n",
        "                                   estimator_name='ROC puntual')\n",
        "    display.plot(color=\"#03A89E\",ax=ax)\n",
        "\n",
        "    plt.plot([0, 1], [0, 1], color=\"navy\", lw=2, linestyle=\"--\")  \n",
        "    plt.scatter(fpr, tpr, color =\"#03A89E\" )\n",
        "    plt.xlabel(\"1-Especificidad\")\n",
        "    plt.ylabel(\"Sencibilidad\")\n",
        "    plt.title(\"ROC\")"
      ]
    },
    {
      "cell_type": "code",
      "execution_count": null,
      "metadata": {},
      "outputs": [],
      "source": [
        "confusion(gauss_svm)\n",
        "curvasROC(gauss_svm)"
      ]
    }
  ],
  "metadata": {
    "interpreter": {
      "hash": "b3949b2a0815298b43e106b2343ed63bf66d2539f3471496fd9bd58d189f78b8"
    },
    "kernelspec": {
      "display_name": "Python 3.10.1 64-bit",
      "language": "python",
      "name": "python3"
    },
    "language_info": {
      "codemirror_mode": {
        "name": "ipython",
        "version": 3
      },
      "file_extension": ".py",
      "mimetype": "text/x-python",
      "name": "python",
      "nbconvert_exporter": "python",
      "pygments_lexer": "ipython3",
      "version": "3.10.1"
    },
    "orig_nbformat": 4
  },
  "nbformat": 4,
  "nbformat_minor": 2
}
