{
 "cells": [
  {
   "cell_type": "code",
   "execution_count": 2,
   "metadata": {},
   "outputs": [
    {
     "name": "stdout",
     "output_type": "stream",
     "text": [
      "   Status  Duracion  Historial_Crediticio  Proposito  Monto  Ahorros  \\\n",
      "0       1        18                     4          2   1049        1   \n",
      "1       1         9                     4          0   2799        1   \n",
      "2       2        12                     2          9    841        2   \n",
      "3       1        12                     4          0   2122        1   \n",
      "4       1        12                     4          0   2171        1   \n",
      "\n",
      "   Tiempo_trabajando  Porcentaje_salario  Estado_civil_sexo  Otros_deudores  \\\n",
      "0                  2                   4                  2               1   \n",
      "1                  3                   2                  3               1   \n",
      "2                  4                   2                  2               1   \n",
      "3                  3                   3                  3               1   \n",
      "4                  3                   4                  3               1   \n",
      "\n",
      "   ...  Propiedad_valiosa  Edad  Otras_deudas  Residencia  Creditos_banco  \\\n",
      "0  ...                  2    21             3           1               1   \n",
      "1  ...                  1    36             3           1               2   \n",
      "2  ...                  1    23             3           1               1   \n",
      "3  ...                  1    39             3           1               2   \n",
      "4  ...                  2    38             1           2               2   \n",
      "\n",
      "   Empleo  Personas_dependientes  Telefono  Extranjero  Default  \n",
      "0       3                      2         1           2        1  \n",
      "1       3                      1         1           2        1  \n",
      "2       2                      2         1           2        1  \n",
      "3       2                      1         1           1        1  \n",
      "4       2                      2         1           1        1  \n",
      "\n",
      "[5 rows x 21 columns]\n"
     ]
    },
    {
     "name": "stderr",
     "output_type": "stream",
     "text": [
      "c:\\Users\\sabat\\AppData\\Local\\Programs\\Python\\Python310\\lib\\site-packages\\IPython\\core\\interactiveshell.py:3397: FutureWarning: In a future version of pandas all arguments of read_csv except for the argument 'filepath_or_buffer' will be keyword-only.\n",
      "  exec(code_obj, self.user_global_ns, self.user_ns)\n"
     ]
    }
   ],
   "source": [
    "##We load the packages used at the work\n",
    "##We are going to use as rule pd for Pandas\n",
    "##If you are going to use Matplotlib, Numpy or\n",
    "##other, you should search how to name them \n",
    "## as rule.\n",
    "##For keep the order you can use prettier\n",
    "## in vscode\n",
    "\n",
    "##Pandas is similar to tidyverse\n",
    "import pandas as pd \n",
    "import numpy as np\n",
    "import matplotlib.pyplot as plt\n",
    "import seaborn as sns\n",
    "##The next package is used to format tables\n",
    "##In the next lines you can watch how to use it\n",
    "from tabulate import tabulate\n",
    "\n",
    "\n",
    "\n",
    "##La tabla que vamos a emplear es esta, las demás han\n",
    "##sido eliminadas\n",
    "file=\"SouthGermanCredit.asc\"\n",
    "data=pd.read_csv(file,\" \")\n",
    "\n",
    "##We are going to change the name of the variables \n",
    "##because in German is difficult to us work.\n",
    "names={'laufkont':'Status',\n",
    "        'laufzeit':'Duracion',\n",
    "        'moral':'Historial_Crediticio',\n",
    "        'verw':'Proposito',\n",
    "        'hoehe':'Monto',\n",
    "        'sparkont':'Ahorros',\n",
    "        'beszeit':'Tiempo_trabajando',\n",
    "        'rate':'Porcentaje_salario',\n",
    "        'famges':'Estado_civil_sexo',\n",
    "        'buerge':'Otros_deudores',\n",
    "        'wohnzeit':'Residencia',\n",
    "        'verm':'Propiedad_valiosa',\n",
    "        'alter':'Edad',\n",
    "        'weitkred':'Otras_deudas',\n",
    "        'wohn':'Residencia',\n",
    "        'bishkred':'Creditos_banco',\n",
    "        'beruf':'Empleo',\n",
    "        'pers':'Personas_dependientes',\n",
    "        'telef':'Telefono',\n",
    "        'gastarb':'Extranjero',\n",
    "        'kredit':'Default',}\n",
    "\n",
    "\n",
    "data.rename(columns=names,inplace=True)\n",
    "print(data.head(5))\n",
    "#print(tabulate(data.head(5),headers='keys',tablefmt='latex_longtable'))\n"
   ]
  },
  {
   "cell_type": "code",
   "execution_count": 3,
   "metadata": {},
   "outputs": [
    {
     "name": "stdout",
     "output_type": "stream",
     "text": [
      "\\begin{longtable}{lrr}\n",
      "\\hline\n",
      "                       &   min &   max \\\\\n",
      "\\hline\n",
      "\\endhead\n",
      " Status                &     1 &     4 \\\\\n",
      " Duracion              &     4 &    72 \\\\\n",
      " Historial\\_Crediticio  &     0 &     4 \\\\\n",
      " Proposito             &     0 &    10 \\\\\n",
      " Monto                 &   250 & 18424 \\\\\n",
      " Ahorros               &     1 &     5 \\\\\n",
      " Tiempo\\_trabajando     &     1 &     5 \\\\\n",
      " Porcentaje\\_salario    &     1 &     4 \\\\\n",
      " Estado\\_civil\\_sexo     &     1 &     4 \\\\\n",
      " Otros\\_deudores        &     1 &     3 \\\\\n",
      " Residencia            &     1 &     4 \\\\\n",
      " Propiedad\\_valiosa     &     1 &     4 \\\\\n",
      " Edad                  &    19 &    75 \\\\\n",
      " Otras\\_deudas          &     1 &     3 \\\\\n",
      " Residencia            &     1 &     3 \\\\\n",
      " Creditos\\_banco        &     1 &     4 \\\\\n",
      " Empleo                &     1 &     4 \\\\\n",
      " Personas\\_dependientes &     1 &     2 \\\\\n",
      " Telefono              &     1 &     2 \\\\\n",
      " Extranjero            &     1 &     2 \\\\\n",
      " Default               &     0 &     1 \\\\\n",
      "\\hline\n",
      "\\end{longtable}\n"
     ]
    }
   ],
   "source": [
    "##It's contructed a table of min and max of all to know if \n",
    "##the data doesn't have mistakes\n",
    "data_1=data.agg(['min','max'])\n",
    "print(tabulate(data_1.transpose(),headers='keys',tablefmt='latex_longtable'))"
   ]
  },
  {
   "cell_type": "code",
   "execution_count": 4,
   "metadata": {},
   "outputs": [
    {
     "name": "stdout",
     "output_type": "stream",
     "text": [
      "\\begin{longtable}{lrrrrrrr}\n",
      "\\hline\n",
      "                   &     mean &        std &   min &    25\\% &    50\\% &     75\\% &   max \\\\\n",
      "\\hline\n",
      "\\endhead\n",
      " Duracion          &   20.903 &   12.0588  &     4 &   12   &   18   &   24    &    72 \\\\\n",
      " Edad              &   35.542 &   11.3527  &    19 &   27   &   33   &   42    &    75 \\\\\n",
      " Monto             & 3271.25  & 2822.75    &   250 & 1365.5 & 2319.5 & 3972.25 & 18424 \\\\\n",
      " Tiempo\\_trabajando &    3.384 &    1.20831 &     1 &    3   &    3   &    5    &     5 \\\\\n",
      "\\hline\n",
      "\\end{longtable}\n"
     ]
    }
   ],
   "source": [
    "##We are going to construct the tables\n",
    "##We are going to do a resume of five numbers\n",
    "##Duracion, Monto, Edad\n",
    "##First we select this three columns\n",
    "##This new variable is the data.frame with,\n",
    "##what we want\n",
    "data_2=data[['Duracion','Edad','Monto','Tiempo_trabajando']]\n",
    "\n",
    "summary_2=data_2.describe().transpose()\n",
    "summary_2=summary_2.loc[:,summary_2.columns!='count']\n",
    "\n",
    "\n",
    "\n",
    "print(tabulate(summary_2,headers='keys',tablefmt='latex_longtable'))"
   ]
  },
  {
   "cell_type": "code",
   "execution_count": 5,
   "metadata": {},
   "outputs": [
    {
     "name": "stdout",
     "output_type": "stream",
     "text": [
      "\\begin{longtable}{lrrrrrr}\n",
      "\\hline\n",
      " Default   &   0 &   1 &   2 &   3 &   4 &   All \\\\\n",
      "\\hline\n",
      "\\endhead\n",
      " 0         &  25 &  28 & 169 &  28 &  50 &   300 \\\\\n",
      " 1         &  15 &  21 & 361 &  60 & 243 &   700 \\\\\n",
      " All       &  40 &  49 & 530 &  88 & 293 &  1000 \\\\\n",
      "\\hline\n",
      "\\end{longtable}\n"
     ]
    }
   ],
   "source": [
    "##A table count historial and default\n",
    "historial_default=pd.crosstab(index=data['Default'],columns=data['Historial_Crediticio'],margins=True)\n",
    "print(tabulate(historial_default,headers='keys',tablefmt='latex_longtable'))"
   ]
  },
  {
   "cell_type": "code",
   "execution_count": 6,
   "metadata": {},
   "outputs": [
    {
     "name": "stdout",
     "output_type": "stream",
     "text": [
      "\\begin{longtable}{rrrrrr}\n",
      "\\hline\n",
      "   Default &   1 &   2 &   3 &   4 &   5 \\\\\n",
      "\\hline\n",
      "\\endhead\n",
      "         0 & 217 &  34 &  11 &   6 &  32 \\\\\n",
      "         1 & 386 &  69 &  52 &  42 & 151 \\\\\n",
      "\\hline\n",
      "\\end{longtable}\n"
     ]
    }
   ],
   "source": [
    "##A table count savings and default\n",
    "savings_default=pd.crosstab(index=data['Default'],columns=data['Ahorros'])\n",
    "print(tabulate(savings_default,headers='keys',tablefmt='latex_longtable'))"
   ]
  },
  {
   "cell_type": "code",
   "execution_count": 8,
   "metadata": {},
   "outputs": [
    {
     "data": {
      "image/png": "[encoded data removed]",
      "text/plain": [
       "<Figure size 1440x288 with 1 Axes>"
      ]
     },
     "metadata": {
      "needs_background": "light"
     },
     "output_type": "display_data"
    }
   ],
   "source": [
    "datosG1 = data.loc[:, [\"Monto\", \"Default\"]]\n",
    "datosG2 = [datosG1[datosG1[\"Default\"]==1].Monto, datosG1[datosG1[\"Default\"]==0].Monto]\n",
    "fig, (ax1) = plt.subplots(nrows=1, ncols=1, figsize=(20, 4))\n",
    "\n",
    "# rectangular box plot\n",
    "bplot1 = ax1.boxplot(datosG2,\n",
    "                     vert=False,  # vertical box alignment\n",
    "                     patch_artist=True,  # fill with color\n",
    "                     labels=[\"Imcumplio\", \"Cumplio\"],\n",
    "                     widths=(0.75, 0.75))  # will be used to label x-ticks\n",
    "ax1.set_title(\"Montos del prestamo\")\n",
    "\n",
    "\n",
    "# fill with colors\n",
    "for patch, color in zip(bplot1['boxes'], [ '#FF6103', '#03A89E']):\n",
    "        patch.set_facecolor(color)\n",
    "\n",
    "\n",
    "plt.show()"
   ]
  },
  {
   "cell_type": "code",
   "execution_count": null,
   "metadata": {},
   "outputs": [
    {
     "data": {
      "image/png": "[encoded data removed]",
      "text/plain": [
       "<Figure size 1440x504 with 1 Axes>"
      ]
     },
     "metadata": {
      "needs_background": "light"
     },
     "output_type": "display_data"
    }
   ],
   "source": [
    "#Hacer que para cada uno de los labels este los defalu, me gusta más\n",
    "datosG1 = data.loc[:, [\"Proposito\", \"Default\"]]\n",
    "datosG1[datosG1[\"Default\"]==1]\n",
    "labels = [\n",
    "    \"Otros\",\n",
    "    \"Carro nuevo\",\n",
    "    \"Carro usado\",\n",
    "    \"Muebles/equipamento\",\n",
    "    \"Radio/televisión\",\n",
    "    \"Ampliación del hogar\",\n",
    "    \"Reparaciones\",\n",
    "    \"Educación\",\n",
    "    \"Vacaciones\",\n",
    "    \"Reentrenamiento\",\n",
    "    \"Trabajo\"\n",
    "]\n",
    "\n",
    "eje1=np.unique(datosG1[datosG1[\"Default\"]==1].Proposito, return_counts=True)\n",
    "eje2=np.unique(datosG1[datosG1[\"Default\"]==0].Proposito, return_counts=True)\n",
    "x = np.arange(len(labels))  # the label locations\n",
    "width = 0.35  # the width of the bars\n",
    "\n",
    "fig, ax = plt.subplots(nrows=1, ncols=1, figsize=(20, 7))\n",
    "rects1 = ax.bar(eje1[0]- width/2 ,eje1[1], width, label='Cumplio', color=[ \"#03A89E\"])\n",
    "rects2 = ax.bar(eje2[0]+ width/2, eje2[1], width, label='Imcumplio', color=[\"#FF6103\"])\n",
    "\n",
    "# Add some text for labels, title and custom x-axis tick labels, etc.\n",
    "ax.set_ylabel('Cantidad')\n",
    "ax.set_title('Cantidad de los prestamos cumplidos ')\n",
    "ax.set_xticks(x)\n",
    "ax.set_xticklabels(labels)\n",
    "ax.legend()\n",
    "\n",
    "def autolabel(rects):\n",
    "    \"\"\"Attach a text label above each bar in *rects*, displaying its height.\"\"\"\n",
    "    for rect in rects:\n",
    "        height = rect.get_height()\n",
    "        ax.annotate('{}'.format(height),\n",
    "                    xy=(rect.get_x() + rect.get_width() / 2, height),\n",
    "                    xytext=(0, 3),  # 3 points vertical offset\n",
    "                    textcoords=\"offset points\",\n",
    "                    ha='center', va='bottom')\n",
    "\n",
    "\n",
    "autolabel(rects1)\n",
    "autolabel(rects2)\n",
    "\n",
    "\n",
    "fig.tight_layout()\n",
    "\n",
    "plt.show()"
   ]
  },
  {
   "cell_type": "code",
   "execution_count": null,
   "metadata": {},
   "outputs": [
    {
     "data": {
      "image/png": "[encoded data removed]",
      "text/plain": [
       "<Figure size 504x504 with 1 Axes>"
      ]
     },
     "metadata": {
      "needs_background": "light"
     },
     "output_type": "display_data"
    }
   ],
   "source": [
    "#Hacer que para cada uno de los labels este los defalu, me gusta más\n",
    "datosG1 = data.loc[:, [\"Extranjero\", \"Default\"]]\n",
    "datosG1[datosG1[\"Default\"]==1]\n",
    "labels = [\"Extranjero\", \"Nacional \"]\n",
    "\n",
    "eje1=np.unique(datosG1[datosG1[\"Default\"]==1].Extranjero, return_counts=True)\n",
    "eje2=np.unique(datosG1[datosG1[\"Default\"]==0].Extranjero, return_counts=True)\n",
    "x = np.arange(len(labels))  # the label locations\n",
    "width = 0.35  # the width of the bars\n",
    "\n",
    "fig, ax = plt.subplots(nrows=1, ncols=1, figsize=(7, 7))\n",
    "rects1 = ax.bar(eje1[0]- width/2 ,eje1[1], width, label='Cumplio', color=[ \"#03A89E\"])\n",
    "rects2 = ax.bar(eje2[0]+ width/2, eje2[1], width, label='Imcumplio', color=[ \"#FF6103\"])\n",
    "\n",
    "# Add some text for labels, title and custom x-axis tick labels, etc.\n",
    "ax.set_ylabel('Scores')\n",
    "ax.set_title('Cantidad')\n",
    "ax.set_xticks([1,2])\n",
    "ax.set_xticklabels(labels)\n",
    "ax.legend()\n",
    "\n",
    "def autolabel(rects):\n",
    "    \"\"\"Attach a text label above each bar in *rects*, displaying its height.\"\"\"\n",
    "    for rect in rects:\n",
    "        height = rect.get_height()\n",
    "        ax.annotate('{}'.format(height),\n",
    "                    xy=(rect.get_x() + rect.get_width() / 2, height),\n",
    "                    xytext=(0, 3),  # 3 points vertical offset\n",
    "                    textcoords=\"offset points\",\n",
    "                    ha='center', va='bottom')\n",
    "\n",
    "\n",
    "autolabel(rects1)\n",
    "autolabel(rects2)\n",
    "\n",
    "\n",
    "fig.tight_layout()\n",
    "\n",
    "plt.show()"
   ]
  }
 ],
 "metadata": {
  "interpreter": {
   "hash": "b3949b2a0815298b43e106b2343ed63bf66d2539f3471496fd9bd58d189f78b8"
  },
  "kernelspec": {
   "display_name": "Python 3.10.1 64-bit",
   "language": "python",
   "name": "python3"
  },
  "language_info": {
   "codemirror_mode": {
    "name": "ipython",
    "version": 3
   },
   "file_extension": ".py",
   "mimetype": "text/x-python",
   "name": "python",
   "nbconvert_exporter": "python",
   "pygments_lexer": "ipython3",
   "version": "3.10.1"
  },
  "orig_nbformat": 4
 },
 "nbformat": 4,
 "nbformat_minor": 2
}
