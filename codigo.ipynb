{
 "cells": [
  {
   "cell_type": "code",
   "execution_count": 1,
   "metadata": {},
   "outputs": [
    {
     "name": "stdout",
     "output_type": "stream",
     "text": [
      "   Status  Duracion  Historial_Crediticio  Proposito  Monto  Ahorros  \\\n",
      "0       1        18                     4          2   1049        1   \n",
      "1       1         9                     4          0   2799        1   \n",
      "2       2        12                     2          9    841        2   \n",
      "3       1        12                     4          0   2122        1   \n",
      "4       1        12                     4          0   2171        1   \n",
      "\n",
      "   Tiempo_trabajando  Porcentaje_salario  Estado_civil_sexo  Otros_deudores  \\\n",
      "0                  2                   4                  2               1   \n",
      "1                  3                   2                  3               1   \n",
      "2                  4                   2                  2               1   \n",
      "3                  3                   3                  3               1   \n",
      "4                  3                   4                  3               1   \n",
      "\n",
      "   ...  Propiedad_valiosa  Edad  Otras_deudas  Residencia  Creditos_banco  \\\n",
      "0  ...                  2    21             3           1               1   \n",
      "1  ...                  1    36             3           1               2   \n",
      "2  ...                  1    23             3           1               1   \n",
      "3  ...                  1    39             3           1               2   \n",
      "4  ...                  2    38             1           2               2   \n",
      "\n",
      "   Empleo  Personas_dependientes  Telefono  Extranjero  Default  \n",
      "0       3                      2         1           2        1  \n",
      "1       3                      1         1           2        1  \n",
      "2       2                      2         1           2        1  \n",
      "3       2                      1         1           1        1  \n",
      "4       2                      2         1           1        1  \n",
      "\n",
      "[5 rows x 21 columns]\n"
     ]
    },
    {
     "name": "stderr",
     "output_type": "stream",
     "text": [
      "/home/joshua/.local/lib/python3.10/site-packages/IPython/core/interactiveshell.py:3398: FutureWarning: In a future version of pandas all arguments of read_csv except for the argument 'filepath_or_buffer' will be keyword-only.\n",
      "  exec(code_obj, self.user_global_ns, self.user_ns)\n"
     ]
    }
   ],
   "source": [
    "##We load the packages used at the work\n",
    "##We are going to use as rule pd for Pandas\n",
    "##If you are going to use Matplotlib, Numpy or\n",
    "##other, you should search how to name them \n",
    "## as rule.\n",
    "##For keep the order you can use prettier\n",
    "## in vscode\n",
    "\n",
    "\n",
    "##Pandas is similar to tidyverse\n",
    "import pandas as pd \n",
    "import numpy as np\n",
    "import matplotlib.pyplot as plt\n",
    "\n",
    "import seaborn as sns\n",
    "##The next package is used to format tables\n",
    "##In the next lines you can watch how to use it\n",
    "from tabulate import tabulate\n",
    "from sklearn import svm\n",
    "from sklearn import metrics\n",
    "\n",
    "from sklearn.ensemble import RandomForestClassifier\n",
    "from sklearn.metrics import RocCurveDisplay\n",
    "from sklearn.datasets import load_wine\n",
    "from sklearn.model_selection import train_test_split\n",
    "\n",
    "\n",
    "from sklearn.metrics import confusion_matrix\n",
    "from sklearn.metrics import ConfusionMatrixDisplay\n",
    "\n",
    "##La tabla que vamos a emplear es esta, las demás han\n",
    "##sido eliminadas\n",
    "file=\"SouthGermanCredit.asc\"\n",
    "data=pd.read_csv(file,\" \")\n",
    "\n",
    "##We are going to change the name of the variables \n",
    "##because in German is difficult to us work.\n",
    "names={'laufkont':'Status',\n",
    "        'laufzeit':'Duracion',\n",
    "        'moral':'Historial_Crediticio',\n",
    "        'verw':'Proposito',\n",
    "        'hoehe':'Monto',\n",
    "        'sparkont':'Ahorros',\n",
    "        'beszeit':'Tiempo_trabajando',\n",
    "        'rate':'Porcentaje_salario',\n",
    "        'famges':'Estado_civil_sexo',\n",
    "        'buerge':'Otros_deudores',\n",
    "        'wohnzeit':'Residencia',\n",
    "        'verm':'Propiedad_valiosa',\n",
    "        'alter':'Edad',\n",
    "        'weitkred':'Otras_deudas',\n",
    "        'wohn':'Residencia',\n",
    "        'bishkred':'Creditos_banco',\n",
    "        'beruf':'Empleo',\n",
    "        'pers':'Personas_dependientes',\n",
    "        'telef':'Telefono',\n",
    "        'gastarb':'Extranjero',\n",
    "        'kredit':'Default',}\n",
    "\n",
    "\n",
    "data.rename(columns=names,inplace=True)\n",
    "print(data.head(5))\n",
    "#print(tabulate(data.head(5),headers='keys',tablefmt='latex_longtable'))\n"
   ]
  },
  {
   "cell_type": "code",
   "execution_count": 2,
   "metadata": {},
   "outputs": [
    {
     "name": "stdout",
     "output_type": "stream",
     "text": [
      "\\begin{longtable}{lrr}\n",
      "\\hline\n",
      "                       &   min &   max \\\\\n",
      "\\hline\n",
      "\\endhead\n",
      " Status                &     1 &     4 \\\\\n",
      " Duracion              &     4 &    72 \\\\\n",
      " Historial\\_Crediticio  &     0 &     4 \\\\\n",
      " Proposito             &     0 &    10 \\\\\n",
      " Monto                 &   250 & 18424 \\\\\n",
      " Ahorros               &     1 &     5 \\\\\n",
      " Tiempo\\_trabajando     &     1 &     5 \\\\\n",
      " Porcentaje\\_salario    &     1 &     4 \\\\\n",
      " Estado\\_civil\\_sexo     &     1 &     4 \\\\\n",
      " Otros\\_deudores        &     1 &     3 \\\\\n",
      " Residencia            &     1 &     4 \\\\\n",
      " Propiedad\\_valiosa     &     1 &     4 \\\\\n",
      " Edad                  &    19 &    75 \\\\\n",
      " Otras\\_deudas          &     1 &     3 \\\\\n",
      " Residencia            &     1 &     3 \\\\\n",
      " Creditos\\_banco        &     1 &     4 \\\\\n",
      " Empleo                &     1 &     4 \\\\\n",
      " Personas\\_dependientes &     1 &     2 \\\\\n",
      " Telefono              &     1 &     2 \\\\\n",
      " Extranjero            &     1 &     2 \\\\\n",
      " Default               &     0 &     1 \\\\\n",
      "\\hline\n",
      "\\end{longtable}\n"
     ]
    }
   ],
   "source": [
    "##It's contructed a table of min and max of all to know if \n",
    "##the data doesn't have mistakes\n",
    "data_1=data.agg(['min','max'])\n",
    "print(tabulate(data_1.transpose(),headers='keys',tablefmt='latex_longtable'))"
   ]
  },
  {
   "cell_type": "code",
   "execution_count": 3,
   "metadata": {},
   "outputs": [
    {
     "name": "stdout",
     "output_type": "stream",
     "text": [
      "\\begin{longtable}{lrrrrrrr}\n",
      "\\hline\n",
      "                   &     mean &        std &   min &    25\\% &    50\\% &     75\\% &   max \\\\\n",
      "\\hline\n",
      "\\endhead\n",
      " Duracion          &   20.903 &   12.0588  &     4 &   12   &   18   &   24    &    72 \\\\\n",
      " Edad              &   35.542 &   11.3527  &    19 &   27   &   33   &   42    &    75 \\\\\n",
      " Monto             & 3271.25  & 2822.75    &   250 & 1365.5 & 2319.5 & 3972.25 & 18424 \\\\\n",
      " Tiempo\\_trabajando &    3.384 &    1.20831 &     1 &    3   &    3   &    5    &     5 \\\\\n",
      "\\hline\n",
      "\\end{longtable}\n"
     ]
    }
   ],
   "source": [
    "##We are going to construct the tables\n",
    "##We are going to do a resume of five numbers\n",
    "##Duracion, Monto, Edad\n",
    "##First we select this three columns\n",
    "##This new variable is the data.frame with,\n",
    "##what we want\n",
    "data_2=data[['Duracion','Edad','Monto','Tiempo_trabajando']]\n",
    "\n",
    "summary_2=data_2.describe().transpose()\n",
    "summary_2=summary_2.loc[:,summary_2.columns!='count']\n",
    "\n",
    "\n",
    "\n",
    "print(tabulate(summary_2,headers='keys',tablefmt='latex_longtable'))"
   ]
  },
  {
   "cell_type": "code",
   "execution_count": 4,
   "metadata": {},
   "outputs": [
    {
     "ename": "KeyError",
     "evalue": "\"['Coeficiente de dispersion cuartial'] not in index\"",
     "output_type": "error",
     "traceback": [
      "\u001b[0;31m---------------------------------------------------------------------------\u001b[0m",
      "\u001b[0;31mKeyError\u001b[0m                                  Traceback (most recent call last)",
      "\u001b[1;32m/home/joshua/Documents/UCR/Estadistica_Actuarial_II/Proyecto_Est_Act_II/codigo.ipynb Cell 4'\u001b[0m in \u001b[0;36m<cell line: 5>\u001b[0;34m()\u001b[0m\n\u001b[1;32m      <a href='vscode-notebook-cell:/home/joshua/Documents/UCR/Estadistica_Actuarial_II/Proyecto_Est_Act_II/codigo.ipynb#ch0000003?line=1'>2</a>\u001b[0m summary_2[\u001b[39m'\u001b[39m\u001b[39mCoeficiente de dispersion cuartil\u001b[39m\u001b[39m'\u001b[39m]\u001b[39m=\u001b[39m(summary_2[\u001b[39m'\u001b[39m\u001b[39m75\u001b[39m\u001b[39m%\u001b[39m\u001b[39m'\u001b[39m]\u001b[39m-\u001b[39msummary_2[\u001b[39m'\u001b[39m\u001b[39m25\u001b[39m\u001b[39m%\u001b[39m\u001b[39m'\u001b[39m])\u001b[39m/\u001b[39m(summary_2[\u001b[39m'\u001b[39m\u001b[39m75\u001b[39m\u001b[39m%\u001b[39m\u001b[39m'\u001b[39m]\u001b[39m+\u001b[39msummary_2[\u001b[39m'\u001b[39m\u001b[39m25\u001b[39m\u001b[39m%\u001b[39m\u001b[39m'\u001b[39m])\n\u001b[1;32m      <a href='vscode-notebook-cell:/home/joshua/Documents/UCR/Estadistica_Actuarial_II/Proyecto_Est_Act_II/codigo.ipynb#ch0000003?line=2'>3</a>\u001b[0m summary_2[\u001b[39m'\u001b[39m\u001b[39mCoeficiente de variacion\u001b[39m\u001b[39m'\u001b[39m]\u001b[39m=\u001b[39msummary_2[\u001b[39m'\u001b[39m\u001b[39mstd\u001b[39m\u001b[39m'\u001b[39m]\u001b[39m/\u001b[39msummary_2[\u001b[39m'\u001b[39m\u001b[39mmean\u001b[39m\u001b[39m'\u001b[39m]\n\u001b[0;32m----> <a href='vscode-notebook-cell:/home/joshua/Documents/UCR/Estadistica_Actuarial_II/Proyecto_Est_Act_II/codigo.ipynb#ch0000003?line=4'>5</a>\u001b[0m \u001b[39mprint\u001b[39m(tabulate(summary_2[[\u001b[39m'\u001b[39;49m\u001b[39mCoeficiente de dispersion cuartial\u001b[39;49m\u001b[39m'\u001b[39;49m,\u001b[39m'\u001b[39;49m\u001b[39mCoeficiente de variacion\u001b[39;49m\u001b[39m'\u001b[39;49m]],headers\u001b[39m=\u001b[39m\u001b[39m'\u001b[39m\u001b[39mkeys\u001b[39m\u001b[39m'\u001b[39m,floatfmt\u001b[39m=\u001b[39m\u001b[39m\"\u001b[39m\u001b[39m.4f\u001b[39m\u001b[39m\"\u001b[39m,tablefmt\u001b[39m=\u001b[39m\u001b[39m'\u001b[39m\u001b[39mlatex_longtable\u001b[39m\u001b[39m'\u001b[39m))\n",
      "File \u001b[0;32m~/.local/lib/python3.10/site-packages/pandas/core/frame.py:3511\u001b[0m, in \u001b[0;36mDataFrame.__getitem__\u001b[0;34m(self, key)\u001b[0m\n\u001b[1;32m   <a href='file:///home/joshua/.local/lib/python3.10/site-packages/pandas/core/frame.py?line=3508'>3509</a>\u001b[0m     \u001b[39mif\u001b[39;00m is_iterator(key):\n\u001b[1;32m   <a href='file:///home/joshua/.local/lib/python3.10/site-packages/pandas/core/frame.py?line=3509'>3510</a>\u001b[0m         key \u001b[39m=\u001b[39m \u001b[39mlist\u001b[39m(key)\n\u001b[0;32m-> <a href='file:///home/joshua/.local/lib/python3.10/site-packages/pandas/core/frame.py?line=3510'>3511</a>\u001b[0m     indexer \u001b[39m=\u001b[39m \u001b[39mself\u001b[39;49m\u001b[39m.\u001b[39;49mcolumns\u001b[39m.\u001b[39;49m_get_indexer_strict(key, \u001b[39m\"\u001b[39;49m\u001b[39mcolumns\u001b[39;49m\u001b[39m\"\u001b[39;49m)[\u001b[39m1\u001b[39m]\n\u001b[1;32m   <a href='file:///home/joshua/.local/lib/python3.10/site-packages/pandas/core/frame.py?line=3512'>3513</a>\u001b[0m \u001b[39m# take() does not accept boolean indexers\u001b[39;00m\n\u001b[1;32m   <a href='file:///home/joshua/.local/lib/python3.10/site-packages/pandas/core/frame.py?line=3513'>3514</a>\u001b[0m \u001b[39mif\u001b[39;00m \u001b[39mgetattr\u001b[39m(indexer, \u001b[39m\"\u001b[39m\u001b[39mdtype\u001b[39m\u001b[39m\"\u001b[39m, \u001b[39mNone\u001b[39;00m) \u001b[39m==\u001b[39m \u001b[39mbool\u001b[39m:\n",
      "File \u001b[0;32m~/.local/lib/python3.10/site-packages/pandas/core/indexes/base.py:5782\u001b[0m, in \u001b[0;36mIndex._get_indexer_strict\u001b[0;34m(self, key, axis_name)\u001b[0m\n\u001b[1;32m   <a href='file:///home/joshua/.local/lib/python3.10/site-packages/pandas/core/indexes/base.py?line=5778'>5779</a>\u001b[0m \u001b[39melse\u001b[39;00m:\n\u001b[1;32m   <a href='file:///home/joshua/.local/lib/python3.10/site-packages/pandas/core/indexes/base.py?line=5779'>5780</a>\u001b[0m     keyarr, indexer, new_indexer \u001b[39m=\u001b[39m \u001b[39mself\u001b[39m\u001b[39m.\u001b[39m_reindex_non_unique(keyarr)\n\u001b[0;32m-> <a href='file:///home/joshua/.local/lib/python3.10/site-packages/pandas/core/indexes/base.py?line=5781'>5782</a>\u001b[0m \u001b[39mself\u001b[39;49m\u001b[39m.\u001b[39;49m_raise_if_missing(keyarr, indexer, axis_name)\n\u001b[1;32m   <a href='file:///home/joshua/.local/lib/python3.10/site-packages/pandas/core/indexes/base.py?line=5783'>5784</a>\u001b[0m keyarr \u001b[39m=\u001b[39m \u001b[39mself\u001b[39m\u001b[39m.\u001b[39mtake(indexer)\n\u001b[1;32m   <a href='file:///home/joshua/.local/lib/python3.10/site-packages/pandas/core/indexes/base.py?line=5784'>5785</a>\u001b[0m \u001b[39mif\u001b[39;00m \u001b[39misinstance\u001b[39m(key, Index):\n\u001b[1;32m   <a href='file:///home/joshua/.local/lib/python3.10/site-packages/pandas/core/indexes/base.py?line=5785'>5786</a>\u001b[0m     \u001b[39m# GH 42790 - Preserve name from an Index\u001b[39;00m\n",
      "File \u001b[0;32m~/.local/lib/python3.10/site-packages/pandas/core/indexes/base.py:5845\u001b[0m, in \u001b[0;36mIndex._raise_if_missing\u001b[0;34m(self, key, indexer, axis_name)\u001b[0m\n\u001b[1;32m   <a href='file:///home/joshua/.local/lib/python3.10/site-packages/pandas/core/indexes/base.py?line=5841'>5842</a>\u001b[0m     \u001b[39mraise\u001b[39;00m \u001b[39mKeyError\u001b[39;00m(\u001b[39mf\u001b[39m\u001b[39m\"\u001b[39m\u001b[39mNone of [\u001b[39m\u001b[39m{\u001b[39;00mkey\u001b[39m}\u001b[39;00m\u001b[39m] are in the [\u001b[39m\u001b[39m{\u001b[39;00maxis_name\u001b[39m}\u001b[39;00m\u001b[39m]\u001b[39m\u001b[39m\"\u001b[39m)\n\u001b[1;32m   <a href='file:///home/joshua/.local/lib/python3.10/site-packages/pandas/core/indexes/base.py?line=5843'>5844</a>\u001b[0m not_found \u001b[39m=\u001b[39m \u001b[39mlist\u001b[39m(ensure_index(key)[missing_mask\u001b[39m.\u001b[39mnonzero()[\u001b[39m0\u001b[39m]]\u001b[39m.\u001b[39munique())\n\u001b[0;32m-> <a href='file:///home/joshua/.local/lib/python3.10/site-packages/pandas/core/indexes/base.py?line=5844'>5845</a>\u001b[0m \u001b[39mraise\u001b[39;00m \u001b[39mKeyError\u001b[39;00m(\u001b[39mf\u001b[39m\u001b[39m\"\u001b[39m\u001b[39m{\u001b[39;00mnot_found\u001b[39m}\u001b[39;00m\u001b[39m not in index\u001b[39m\u001b[39m\"\u001b[39m)\n",
      "\u001b[0;31mKeyError\u001b[0m: \"['Coeficiente de dispersion cuartial'] not in index\""
     ]
    }
   ],
   "source": [
    "#We estimate the quartile coefficient of dispersion\n",
    "summary_2['Coeficiente de dispersion cuartil']=(summary_2['75%']-summary_2['25%'])/(summary_2['75%']+summary_2['25%'])\n",
    "summary_2['Coeficiente de variacion']=summary_2['std']/summary_2['mean']\n",
    "\n",
    "print(tabulate(summary_2[['Coeficiente de dispersion cuartial','Coeficiente de variacion']],headers='keys',floatfmt=\".4f\",tablefmt='latex_longtable'))"
   ]
  },
  {
   "cell_type": "code",
   "execution_count": null,
   "metadata": {},
   "outputs": [
    {
     "name": "stdout",
     "output_type": "stream",
     "text": [
      "\\begin{longtable}{lrrrrrr}\n",
      "\\hline\n",
      " Default   &   0 &   1 &   2 &   3 &   4 &   All \\\\\n",
      "\\hline\n",
      "\\endhead\n",
      " 0         &  25 &  28 & 169 &  28 &  50 &   300 \\\\\n",
      " 1         &  15 &  21 & 361 &  60 & 243 &   700 \\\\\n",
      " All       &  40 &  49 & 530 &  88 & 293 &  1000 \\\\\n",
      "\\hline\n",
      "\\end{longtable}\n"
     ]
    }
   ],
   "source": [
    "##A table count historial and default\n",
    "historial_default=pd.crosstab(index=data['Default'],columns=data['Historial_Crediticio'],margins=True)\n",
    "print(tabulate(historial_default,headers='keys',tablefmt='latex_longtable'))"
   ]
  },
  {
   "cell_type": "code",
   "execution_count": null,
   "metadata": {},
   "outputs": [
    {
     "name": "stdout",
     "output_type": "stream",
     "text": [
      "\\begin{longtable}{rrrrrr}\n",
      "\\hline\n",
      "   Default &   1 &   2 &   3 &   4 &   5 \\\\\n",
      "\\hline\n",
      "\\endhead\n",
      "         0 & 217 &  34 &  11 &   6 &  32 \\\\\n",
      "         1 & 386 &  69 &  52 &  42 & 151 \\\\\n",
      "\\hline\n",
      "\\end{longtable}\n"
     ]
    }
   ],
   "source": [
    "##A table count savings and default\n",
    "savings_default=pd.crosstab(index=data['Default'],columns=data['Ahorros'])\n",
    "print(tabulate(savings_default,headers='keys',tablefmt='latex_longtable'))"
   ]
  },
  {
   "cell_type": "code",
   "execution_count": 26,
   "metadata": {},
   "outputs": [
    {
     "name": "stderr",
     "output_type": "stream",
     "text": [
      "/tmp/ipykernel_22244/875606772.py:16: FutureWarning: In a future version of pandas all arguments of DataFrame.drop except for the argument 'labels' will be keyword-only.\n",
      "  X_train=train.drop('Default',1).values.tolist()\n",
      "/tmp/ipykernel_22244/875606772.py:18: FutureWarning: In a future version of pandas all arguments of DataFrame.drop except for the argument 'labels' will be keyword-only.\n",
      "  X_test=test_random.drop('Default',1).values.tolist()\n"
     ]
    }
   ],
   "source": [
    "#Before we start we are going to change the model form 0 to -1\n",
    "data.loc[data.Default==0,'Default']=-1\n",
    "\n",
    "#Here we are going to construct the way in wich we construct the sample\n",
    "#Neverthless what we want to make to this is a model that at this moment have not been programmed so we are going to select the sample dividing the table in two the good and the bads \n",
    "#In this case we are going to select 80% of the good and bads, and also for\n",
    "#20% of training\n",
    "goods=data[(data['Default']==1)]\n",
    "bads=data[(data['Default']==-1)]\n",
    "#With this we construct the sample\n",
    "\n",
    "goods_random=goods.sample(n=round(len(goods)*0.4),replace=False)\n",
    "bads_random=bads.sample(n=round(len(bads)*0.8),replace=False)\n",
    "train=pd.concat([goods_random,bads_random])\n",
    "test_random=data.drop(train.index)\n",
    "X_train=train.drop('Default',1).values.tolist()\n",
    "Y_train=train[['Default']]\n",
    "X_test=test_random.drop('Default',1).values.tolist()\n",
    "Y_test_real=test_random[['Default']]\n"
   ]
  },
  {
   "cell_type": "code",
   "execution_count": 24,
   "metadata": {},
   "outputs": [
    {
     "name": "stderr",
     "output_type": "stream",
     "text": [
      "/usr/local/lib/python3.10/dist-packages/sklearn/utils/validation.py:1111: DataConversionWarning: A column-vector y was passed when a 1d array was expected. Please change the shape of y to (n_samples, ), for example using ravel().\n",
      "  y = column_or_1d(y, warn=True)\n",
      "/usr/local/lib/python3.10/dist-packages/sklearn/utils/validation.py:1111: DataConversionWarning: A column-vector y was passed when a 1d array was expected. Please change the shape of y to (n_samples, ), for example using ravel().\n",
      "  y = column_or_1d(y, warn=True)\n"
     ]
    },
    {
     "data": {
      "text/html": [
       "<style>#sk-container-id-10 {color: black;background-color: white;}#sk-container-id-10 pre{padding: 0;}#sk-container-id-10 div.sk-toggleable {background-color: white;}#sk-container-id-10 label.sk-toggleable__label {cursor: pointer;display: block;width: 100%;margin-bottom: 0;padding: 0.3em;box-sizing: border-box;text-align: center;}#sk-container-id-10 label.sk-toggleable__label-arrow:before {content: \"▸\";float: left;margin-right: 0.25em;color: #696969;}#sk-container-id-10 label.sk-toggleable__label-arrow:hover:before {color: black;}#sk-container-id-10 div.sk-estimator:hover label.sk-toggleable__label-arrow:before {color: black;}#sk-container-id-10 div.sk-toggleable__content {max-height: 0;max-width: 0;overflow: hidden;text-align: left;background-color: #f0f8ff;}#sk-container-id-10 div.sk-toggleable__content pre {margin: 0.2em;color: black;border-radius: 0.25em;background-color: #f0f8ff;}#sk-container-id-10 input.sk-toggleable__control:checked~div.sk-toggleable__content {max-height: 200px;max-width: 100%;overflow: auto;}#sk-container-id-10 input.sk-toggleable__control:checked~label.sk-toggleable__label-arrow:before {content: \"▾\";}#sk-container-id-10 div.sk-estimator input.sk-toggleable__control:checked~label.sk-toggleable__label {background-color: #d4ebff;}#sk-container-id-10 div.sk-label input.sk-toggleable__control:checked~label.sk-toggleable__label {background-color: #d4ebff;}#sk-container-id-10 input.sk-hidden--visually {border: 0;clip: rect(1px 1px 1px 1px);clip: rect(1px, 1px, 1px, 1px);height: 1px;margin: -1px;overflow: hidden;padding: 0;position: absolute;width: 1px;}#sk-container-id-10 div.sk-estimator {font-family: monospace;background-color: #f0f8ff;border: 1px dotted black;border-radius: 0.25em;box-sizing: border-box;margin-bottom: 0.5em;}#sk-container-id-10 div.sk-estimator:hover {background-color: #d4ebff;}#sk-container-id-10 div.sk-parallel-item::after {content: \"\";width: 100%;border-bottom: 1px solid gray;flex-grow: 1;}#sk-container-id-10 div.sk-label:hover label.sk-toggleable__label {background-color: #d4ebff;}#sk-container-id-10 div.sk-serial::before {content: \"\";position: absolute;border-left: 1px solid gray;box-sizing: border-box;top: 0;bottom: 0;left: 50%;z-index: 0;}#sk-container-id-10 div.sk-serial {display: flex;flex-direction: column;align-items: center;background-color: white;padding-right: 0.2em;padding-left: 0.2em;position: relative;}#sk-container-id-10 div.sk-item {position: relative;z-index: 1;}#sk-container-id-10 div.sk-parallel {display: flex;align-items: stretch;justify-content: center;background-color: white;position: relative;}#sk-container-id-10 div.sk-item::before, #sk-container-id-10 div.sk-parallel-item::before {content: \"\";position: absolute;border-left: 1px solid gray;box-sizing: border-box;top: 0;bottom: 0;left: 50%;z-index: -1;}#sk-container-id-10 div.sk-parallel-item {display: flex;flex-direction: column;z-index: 1;position: relative;background-color: white;}#sk-container-id-10 div.sk-parallel-item:first-child::after {align-self: flex-end;width: 50%;}#sk-container-id-10 div.sk-parallel-item:last-child::after {align-self: flex-start;width: 50%;}#sk-container-id-10 div.sk-parallel-item:only-child::after {width: 0;}#sk-container-id-10 div.sk-dashed-wrapped {border: 1px dashed gray;margin: 0 0.4em 0.5em 0.4em;box-sizing: border-box;padding-bottom: 0.4em;background-color: white;}#sk-container-id-10 div.sk-label label {font-family: monospace;font-weight: bold;display: inline-block;line-height: 1.2em;}#sk-container-id-10 div.sk-label-container {text-align: center;}#sk-container-id-10 div.sk-container {/* jupyter's `normalize.less` sets `[hidden] { display: none; }` but bootstrap.min.css set `[hidden] { display: none !important; }` so we also need the `!important` here to be able to override the default hidden behavior on the sphinx rendered scikit-learn.org. See: https://github.com/scikit-learn/scikit-learn/issues/21755 */display: inline-block !important;position: relative;}#sk-container-id-10 div.sk-text-repr-fallback {display: none;}</style><div id=\"sk-container-id-10\" class=\"sk-top-container\"><div class=\"sk-text-repr-fallback\"><pre>SVC(C=100, kernel=&#x27;sigmoid&#x27;, probability=True)</pre><b>In a Jupyter environment, please rerun this cell to show the HTML representation or trust the notebook. <br />On GitHub, the HTML representation is unable to render, please try loading this page with nbviewer.org.</b></div><div class=\"sk-container\" hidden><div class=\"sk-item\"><div class=\"sk-estimator sk-toggleable\"><input class=\"sk-toggleable__control sk-hidden--visually\" id=\"sk-estimator-id-10\" type=\"checkbox\" checked><label for=\"sk-estimator-id-10\" class=\"sk-toggleable__label sk-toggleable__label-arrow\">SVC</label><div class=\"sk-toggleable__content\"><pre>SVC(C=100, kernel=&#x27;sigmoid&#x27;, probability=True)</pre></div></div></div></div></div>"
      ],
      "text/plain": [
       "SVC(C=100, kernel='sigmoid', probability=True)"
      ]
     },
     "execution_count": 24,
     "metadata": {},
     "output_type": "execute_result"
    }
   ],
   "source": [
    "#Here we are going to program the svm, but with the four basic kernels,\n",
    "#and with the same gamma\n",
    "#We are going to keep the basic adjustment for in this case\n",
    "#And we compare also it with the proposed by Ben-David and Shalev\n",
    "\n",
    "##Linear, This is not accomplised for our data set\n",
    "#linear_svm=svm.SVC(kernel='linear',probability=True)\n",
    "#linear_svm.fit(X_train,Y_train)\n",
    "\n",
    "##Polynomial of grade 2\n",
    "poly_svm=svm.SVC(kernel='poly',degree=2,probability=True)\n",
    "poly_svm.fit(X_train,Y_train)\n",
    "\n",
    "\n",
    "\n",
    "##Gaussian Kernel\n",
    "gauss_svm=svm.SVC(kernel='rbf',probability=True,C=100)\n",
    "gauss_svm.fit(X_train,Y_train)\n",
    "\n",
    "##sigmoid\n",
    "sigm_svm=svm.SVC(kernel='sigmoid',probability=True,C=100)\n",
    "sigm_svm.fit(X_train,Y_train)\n"
   ]
  },
  {
   "cell_type": "code",
   "execution_count": 27,
   "metadata": {},
   "outputs": [
    {
     "name": "stderr",
     "output_type": "stream",
     "text": [
      "/usr/local/lib/python3.10/dist-packages/sklearn/utils/validation.py:1111: DataConversionWarning: A column-vector y was passed when a 1d array was expected. Please change the shape of y to (n_samples, ), for example using ravel().\n",
      "  y = column_or_1d(y, warn=True)\n",
      "/usr/local/lib/python3.10/dist-packages/sklearn/utils/validation.py:1111: DataConversionWarning: A column-vector y was passed when a 1d array was expected. Please change the shape of y to (n_samples, ), for example using ravel().\n",
      "  y = column_or_1d(y, warn=True)\n",
      "/usr/local/lib/python3.10/dist-packages/sklearn/utils/validation.py:1111: DataConversionWarning: A column-vector y was passed when a 1d array was expected. Please change the shape of y to (n_samples, ), for example using ravel().\n",
      "  y = column_or_1d(y, warn=True)\n"
     ]
    },
    {
     "data": {
      "text/html": [
       "<style>#sk-container-id-7 {color: black;background-color: white;}#sk-container-id-7 pre{padding: 0;}#sk-container-id-7 div.sk-toggleable {background-color: white;}#sk-container-id-7 label.sk-toggleable__label {cursor: pointer;display: block;width: 100%;margin-bottom: 0;padding: 0.3em;box-sizing: border-box;text-align: center;}#sk-container-id-7 label.sk-toggleable__label-arrow:before {content: \"▸\";float: left;margin-right: 0.25em;color: #696969;}#sk-container-id-7 label.sk-toggleable__label-arrow:hover:before {color: black;}#sk-container-id-7 div.sk-estimator:hover label.sk-toggleable__label-arrow:before {color: black;}#sk-container-id-7 div.sk-toggleable__content {max-height: 0;max-width: 0;overflow: hidden;text-align: left;background-color: #f0f8ff;}#sk-container-id-7 div.sk-toggleable__content pre {margin: 0.2em;color: black;border-radius: 0.25em;background-color: #f0f8ff;}#sk-container-id-7 input.sk-toggleable__control:checked~div.sk-toggleable__content {max-height: 200px;max-width: 100%;overflow: auto;}#sk-container-id-7 input.sk-toggleable__control:checked~label.sk-toggleable__label-arrow:before {content: \"▾\";}#sk-container-id-7 div.sk-estimator input.sk-toggleable__control:checked~label.sk-toggleable__label {background-color: #d4ebff;}#sk-container-id-7 div.sk-label input.sk-toggleable__control:checked~label.sk-toggleable__label {background-color: #d4ebff;}#sk-container-id-7 input.sk-hidden--visually {border: 0;clip: rect(1px 1px 1px 1px);clip: rect(1px, 1px, 1px, 1px);height: 1px;margin: -1px;overflow: hidden;padding: 0;position: absolute;width: 1px;}#sk-container-id-7 div.sk-estimator {font-family: monospace;background-color: #f0f8ff;border: 1px dotted black;border-radius: 0.25em;box-sizing: border-box;margin-bottom: 0.5em;}#sk-container-id-7 div.sk-estimator:hover {background-color: #d4ebff;}#sk-container-id-7 div.sk-parallel-item::after {content: \"\";width: 100%;border-bottom: 1px solid gray;flex-grow: 1;}#sk-container-id-7 div.sk-label:hover label.sk-toggleable__label {background-color: #d4ebff;}#sk-container-id-7 div.sk-serial::before {content: \"\";position: absolute;border-left: 1px solid gray;box-sizing: border-box;top: 0;bottom: 0;left: 50%;z-index: 0;}#sk-container-id-7 div.sk-serial {display: flex;flex-direction: column;align-items: center;background-color: white;padding-right: 0.2em;padding-left: 0.2em;position: relative;}#sk-container-id-7 div.sk-item {position: relative;z-index: 1;}#sk-container-id-7 div.sk-parallel {display: flex;align-items: stretch;justify-content: center;background-color: white;position: relative;}#sk-container-id-7 div.sk-item::before, #sk-container-id-7 div.sk-parallel-item::before {content: \"\";position: absolute;border-left: 1px solid gray;box-sizing: border-box;top: 0;bottom: 0;left: 50%;z-index: -1;}#sk-container-id-7 div.sk-parallel-item {display: flex;flex-direction: column;z-index: 1;position: relative;background-color: white;}#sk-container-id-7 div.sk-parallel-item:first-child::after {align-self: flex-end;width: 50%;}#sk-container-id-7 div.sk-parallel-item:last-child::after {align-self: flex-start;width: 50%;}#sk-container-id-7 div.sk-parallel-item:only-child::after {width: 0;}#sk-container-id-7 div.sk-dashed-wrapped {border: 1px dashed gray;margin: 0 0.4em 0.5em 0.4em;box-sizing: border-box;padding-bottom: 0.4em;background-color: white;}#sk-container-id-7 div.sk-label label {font-family: monospace;font-weight: bold;display: inline-block;line-height: 1.2em;}#sk-container-id-7 div.sk-label-container {text-align: center;}#sk-container-id-7 div.sk-container {/* jupyter's `normalize.less` sets `[hidden] { display: none; }` but bootstrap.min.css set `[hidden] { display: none !important; }` so we also need the `!important` here to be able to override the default hidden behavior on the sphinx rendered scikit-learn.org. See: https://github.com/scikit-learn/scikit-learn/issues/21755 */display: inline-block !important;position: relative;}#sk-container-id-7 div.sk-text-repr-fallback {display: none;}</style><div id=\"sk-container-id-7\" class=\"sk-top-container\"><div class=\"sk-text-repr-fallback\"><pre>SVC(C=10000, kernel=&#x27;sigmoid&#x27;, probability=True)</pre><b>In a Jupyter environment, please rerun this cell to show the HTML representation or trust the notebook. <br />On GitHub, the HTML representation is unable to render, please try loading this page with nbviewer.org.</b></div><div class=\"sk-container\" hidden><div class=\"sk-item\"><div class=\"sk-estimator sk-toggleable\"><input class=\"sk-toggleable__control sk-hidden--visually\" id=\"sk-estimator-id-7\" type=\"checkbox\" checked><label for=\"sk-estimator-id-7\" class=\"sk-toggleable__label sk-toggleable__label-arrow\">SVC</label><div class=\"sk-toggleable__content\"><pre>SVC(C=10000, kernel=&#x27;sigmoid&#x27;, probability=True)</pre></div></div></div></div></div>"
      ],
      "text/plain": [
       "SVC(C=10000, kernel='sigmoid', probability=True)"
      ]
     },
     "execution_count": 27,
     "metadata": {},
     "output_type": "execute_result"
    }
   ],
   "source": [
    "# We are going to construct the model here based in the model\n",
    "#presented by Ben-David and Shalev\n",
    "##Polynomial of grade 2\n",
    "poly_svm_bd=svm.SVC(kernel='poly',degree=2,probability=True,C=1/len(test_random))\n",
    "poly_svm_bd.fit(X_train,Y_train)\n",
    "\n",
    "\n",
    "\n",
    "##Gaussian Kernel\n",
    "gauss_svm_bd=svm.SVC(kernel='rbf',probability=True,C=1/len(test_random))\n",
    "gauss_svm_bd.fit(X_train,Y_train)\n",
    "\n",
    "##sigmoid\n",
    "sigm_svm_bd=svm.SVC(kernel='sigmoid',probability=True,C=1/len(test_random))\n",
    "sigm_svm_bd.fit(X_train,Y_train)\n"
   ]
  },
  {
   "cell_type": "code",
   "execution_count": 5,
   "metadata": {},
   "outputs": [],
   "source": [
    "\n",
    "\n",
    "#confusion matrix\n",
    "\n",
    "def confusion(modelo):\n",
    "    Predicciones =modelo.predict(X_test)\n",
    "    fir_matrix=confusion_matrix(Y_test_real, Predicciones, labels=[1,-1])\n",
    "    matrix_conf=ConfusionMatrixDisplay(fir_matrix, display_labels=['1','0'])\n",
    "    matrix_conf.plot(colorbar=False)\n",
    "    matrix_conf.ax_.set(xlabel='Predicciones', ylabel='Datos verdaderos')\n",
    "\n"
   ]
  },
  {
   "cell_type": "code",
   "execution_count": 6,
   "metadata": {},
   "outputs": [],
   "source": [
    "\n",
    "\n",
    "#ROC and AUC\n",
    "def curvasROC(modelo):\n",
    "    Predicciones =modelo.predict(X_test)\n",
    "    tn, fp, fn, tp = confusion_matrix(Y_test_real,Predicciones).ravel()\n",
    "    tpr=tp/(tp+fn)\n",
    "    fpr=fp/(fp+tn)\n",
    "    roc_auc = metrics.auc(([0., fpr, 1.]),([0., tpr, 1.]))\n",
    "\n",
    "    fig, ax = plt.subplots()\n",
    "    Probabilistico=RocCurveDisplay.from_estimator(modelo, X_test,\n",
    "     Y_test_real, color= \"#FF6103\" , ax = ax, name = \"ROC probabilística\")\n",
    "\n",
    "    display=RocCurveDisplay(fpr=([0., fpr, 1.]), tpr=([0., tpr, 1.]),  roc_auc=roc_auc,\n",
    "                                   estimator_name='ROC puntual')\n",
    "    display.plot(color=\"#03A89E\",ax=ax)\n",
    "\n",
    "    plt.plot([0, 1], [0, 1], color=\"navy\", lw=2, linestyle=\"--\")  \n",
    "    plt.scatter(fpr, tpr, color =\"#03A89E\" )\n",
    "    plt.xlabel(\"1-Especificidad\")\n",
    "    plt.ylabel(\"Sencibilidad\")\n",
    "    plt.title(\"ROC\")\n",
    "\n"
   ]
  },
  {
   "cell_type": "code",
   "execution_count": 25,
   "metadata": {},
   "outputs": [
    {
     "data": {
      "image/png": "[encoded data removed]",
      "text/plain": [
       "<Figure size 432x288 with 1 Axes>"
      ]
     },
     "metadata": {
      "needs_background": "light"
     },
     "output_type": "display_data"
    },
    {
     "data": {
      "image/png": "[encoded data removed]",
      "text/plain": [
       "<Figure size 432x288 with 1 Axes>"
      ]
     },
     "metadata": {
      "needs_background": "light"
     },
     "output_type": "display_data"
    }
   ],
   "source": [
    "confusion(gauss_svm)\n",
    "curvasROC(gauss_svm)"
   ]
  }
 ],
 "metadata": {
  "interpreter": {
   "hash": "916dbcbb3f70747c44a77c7bcd40155683ae19c65e1c03b4aa3499c5328201f1"
  },
  "kernelspec": {
   "display_name": "Python 3.10.1 64-bit",
   "language": "python",
   "name": "python3"
  },
  "language_info": {
   "codemirror_mode": {
    "name": "ipython",
    "version": 3
   },
   "file_extension": ".py",
   "mimetype": "text/x-python",
   "name": "python",
   "nbconvert_exporter": "python",
   "pygments_lexer": "ipython3",
   "version": "3.10.4"
  },
  "orig_nbformat": 4
 },
 "nbformat": 4,
 "nbformat_minor": 2
}
