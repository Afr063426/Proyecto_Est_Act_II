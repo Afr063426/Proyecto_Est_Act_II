{
 "cells": [
  {
   "cell_type": "code",
   "execution_count": 53,
   "metadata": {},
   "outputs": [
    {
     "name": "stdout",
     "output_type": "stream",
     "text": [
      "   Status  Duracion  Historial_Crediticio  Proposito  Monto  Ahorros  \\\n",
      "0       1        18                     4          2   1049        1   \n",
      "1       1         9                     4          0   2799        1   \n",
      "2       2        12                     2          9    841        2   \n",
      "3       1        12                     4          0   2122        1   \n",
      "4       1        12                     4          0   2171        1   \n",
      "\n",
      "   Tiempo_trabajando  Porcentaje_salario  Estado_civil_sexo  Otros_deudores  \\\n",
      "0                  2                   4                  2               1   \n",
      "1                  3                   2                  3               1   \n",
      "2                  4                   2                  2               1   \n",
      "3                  3                   3                  3               1   \n",
      "4                  3                   4                  3               1   \n",
      "\n",
      "   ...  Propiedad_valiosa  Edad  Otras_deudas  Residencia  Creditos_banco  \\\n",
      "0  ...                  2    21             3           1               1   \n",
      "1  ...                  1    36             3           1               2   \n",
      "2  ...                  1    23             3           1               1   \n",
      "3  ...                  1    39             3           1               2   \n",
      "4  ...                  2    38             1           2               2   \n",
      "\n",
      "   Empleo  Personas_dependientes  Telefono  Extranjero  Default  \n",
      "0       3                      2         1           2        1  \n",
      "1       3                      1         1           2        1  \n",
      "2       2                      2         1           2        1  \n",
      "3       2                      1         1           1        1  \n",
      "4       2                      2         1           1        1  \n",
      "\n",
      "[5 rows x 21 columns]\n"
     ]
    },
    {
     "name": "stderr",
     "output_type": "stream",
     "text": [
      "C:\\Users\\Moises Monge\\AppData\\Local\\Programs\\Python\\Python310\\lib\\site-packages\\IPython\\core\\interactiveshell.py:3397: FutureWarning: In a future version of pandas all arguments of read_csv except for the argument 'filepath_or_buffer' will be keyword-only.\n",
      "  exec(code_obj, self.user_global_ns, self.user_ns)\n"
     ]
    }
   ],
   "source": [
    "##We load the packages used at the work\n",
    "##We are going to use as rule pd for Pandas\n",
    "##If you are going to use Matplotlib, Numpy or\n",
    "##other, you should search how to name them \n",
    "## as rule.\n",
    "##For keep the order you can use prettier\n",
    "## in vscode\n",
    "\n",
    "##Pandas is similar to tidyverse\n",
    "import pandas as pd \n",
    "##The next package is used to format tables\n",
    "##In the next lines you can watch how to use it\n",
    "from tabulate import tabulate\n",
    "\n",
    "import numpy as np\n",
    "\n",
    "import seaborn as sns\n",
    "\n",
    "##La tabla que vamos a emplear es esta, las demás han\n",
    "##sido eliminadas\n",
    "file=\"SouthGermanCredit.asc\"\n",
    "data=pd.read_csv(file,\" \")\n",
    "\n",
    "##We are going to change the name of the variables \n",
    "##because in German is difficult to us work.\n",
    "names={'laufkont':'Status',\n",
    "        'laufzeit':'Duracion',\n",
    "        'moral':'Historial_Crediticio',\n",
    "        'verw':'Proposito',\n",
    "        'hoehe':'Monto',\n",
    "        'sparkont':'Ahorros',\n",
    "        'beszeit':'Tiempo_trabajando',\n",
    "        'rate':'Porcentaje_salario',\n",
    "        'famges':'Estado_civil_sexo',\n",
    "        'buerge':'Otros_deudores',\n",
    "        'wohnzeit':'Residencia',\n",
    "        'verm':'Propiedad_valiosa',\n",
    "        'alter':'Edad',\n",
    "        'weitkred':'Otras_deudas',\n",
    "        'wohn':'Residencia',\n",
    "        'bishkred':'Creditos_banco',\n",
    "        'beruf':'Empleo',\n",
    "        'pers':'Personas_dependientes',\n",
    "        'telef':'Telefono',\n",
    "        'gastarb':'Extranjero',\n",
    "        'kredit':'Default',}\n",
    "\n",
    "\n",
    "data.rename(columns=names,inplace=True)\n",
    "print(data.head(5))\n",
    "#print(tabulate(data.head(5),headers='keys',tablefmt='latex_longtable'))\n"
   ]
  },
  {
   "cell_type": "code",
   "execution_count": null,
   "metadata": {},
   "outputs": [
    {
     "name": "stdout",
     "output_type": "stream",
     "text": [
      "\\begin{longtable}{lrr}\n",
      "\\hline\n",
      "                       &   min &   max \\\\\n",
      "\\hline\n",
      "\\endhead\n",
      " Status                &     1 &     4 \\\\\n",
      " Duracion              &     4 &    72 \\\\\n",
      " Historial\\_Crediticio  &     0 &     4 \\\\\n",
      " Proposito             &     0 &    10 \\\\\n",
      " Monto                 &   250 & 18424 \\\\\n",
      " Ahorros               &     1 &     5 \\\\\n",
      " Tiempo\\_trabajando     &     1 &     5 \\\\\n",
      " Porcentaje\\_salario    &     1 &     4 \\\\\n",
      " Estado\\_civil\\_sexo     &     1 &     4 \\\\\n",
      " Otros\\_deudores        &     1 &     3 \\\\\n",
      " Residencia            &     1 &     4 \\\\\n",
      " Propiedad\\_valiosa     &     1 &     4 \\\\\n",
      " Edad                  &    19 &    75 \\\\\n",
      " Otras\\_deudas          &     1 &     3 \\\\\n",
      " Residencia            &     1 &     3 \\\\\n",
      " Creditos\\_banco        &     1 &     4 \\\\\n",
      " Empleo                &     1 &     4 \\\\\n",
      " Personas\\_dependientes &     1 &     2 \\\\\n",
      " Telefono              &     1 &     2 \\\\\n",
      " Extranjero            &     1 &     2 \\\\\n",
      " Default               &     0 &     1 \\\\\n",
      "\\hline\n",
      "\\end{longtable}\n"
     ]
    }
   ],
   "source": [
    "##It's contructed a table of min and max of all to know if \n",
    "##the data doesn't have mistakes\n",
    "data_1=data.agg(['min','max'])\n",
    "print(tabulate(data_1.transpose(),headers='keys',tablefmt='latex_longtable'))"
   ]
  },
  {
   "cell_type": "code",
   "execution_count": null,
   "metadata": {},
   "outputs": [
    {
     "name": "stdout",
     "output_type": "stream",
     "text": [
      "\\begin{longtable}{lrrrrrrr}\n",
      "\\hline\n",
      "                   &     mean &        std &   min &    25\\% &    50\\% &     75\\% &   max \\\\\n",
      "\\hline\n",
      "\\endhead\n",
      " Duracion          &   20.903 &   12.0588  &     4 &   12   &   18   &   24    &    72 \\\\\n",
      " Edad              &   35.542 &   11.3527  &    19 &   27   &   33   &   42    &    75 \\\\\n",
      " Monto             & 3271.25  & 2822.75    &   250 & 1365.5 & 2319.5 & 3972.25 & 18424 \\\\\n",
      " Tiempo\\_trabajando &    3.384 &    1.20831 &     1 &    3   &    3   &    5    &     5 \\\\\n",
      "\\hline\n",
      "\\end{longtable}\n"
     ]
    }
   ],
   "source": [
    "##We are going to construct the tables\n",
    "##We are going to do a resume of five numbers\n",
    "##Duracion, Monto, Edad\n",
    "##First we select this three columns\n",
    "##This new variable is the data.frame with,\n",
    "##what we want\n",
    "data_2=data[['Duracion','Edad','Monto','Tiempo_trabajando']]\n",
    "\n",
    "summary_2=data_2.describe().transpose()\n",
    "summary_2=summary_2.loc[:,summary_2.columns!='count']\n",
    "\n",
    "\n",
    "\n",
    "print(tabulate(summary_2,headers='keys',tablefmt='latex_longtable'))"
   ]
  },
  {
   "cell_type": "code",
   "execution_count": null,
   "metadata": {},
   "outputs": [
    {
     "name": "stdout",
     "output_type": "stream",
     "text": [
      "\\begin{longtable}{lrrrrrr}\n",
      "\\hline\n",
      " Default   &   0 &   1 &   2 &   3 &   4 &   All \\\\\n",
      "\\hline\n",
      "\\endhead\n",
      " 0         &  25 &  28 & 169 &  28 &  50 &   300 \\\\\n",
      " 1         &  15 &  21 & 361 &  60 & 243 &   700 \\\\\n",
      " All       &  40 &  49 & 530 &  88 & 293 &  1000 \\\\\n",
      "\\hline\n",
      "\\end{longtable}\n"
     ]
    }
   ],
   "source": [
    "##A table count historial and default\n",
    "historial_default=pd.crosstab(index=data['Default'],columns=data['Historial_Crediticio'],margins=True)\n",
    "print(tabulate(historial_default,headers='keys',tablefmt='latex_longtable'))"
   ]
  },
  {
   "cell_type": "code",
   "execution_count": null,
   "metadata": {},
   "outputs": [
    {
     "name": "stdout",
     "output_type": "stream",
     "text": [
      "\\begin{longtable}{rrrrrr}\n",
      "\\hline\n",
      "   Default &   1 &   2 &   3 &   4 &   5 \\\\\n",
      "\\hline\n",
      "\\endhead\n",
      "         0 & 217 &  34 &  11 &   6 &  32 \\\\\n",
      "         1 & 386 &  69 &  52 &  42 & 151 \\\\\n",
      "\\hline\n",
      "\\end{longtable}\n"
     ]
    }
   ],
   "source": [
    "##A table count savings and default\n",
    "savings_default=pd.crosstab(index=data['Default'],columns=data['Ahorros'])\n",
    "print(tabulate(savings_default,headers='keys',tablefmt='latex_longtable'))"
   ]
  },
  {
   "cell_type": "markdown",
   "metadata": {},
   "source": [
    "Se procede a generar un histograma sobre las edades de las personas y clasificando de acuerdo a su estado de default o no default"
   ]
  },
  {
   "cell_type": "code",
   "execution_count": null,
   "metadata": {},
   "outputs": [
    {
     "data": {
      "text/plain": [
       "<AxesSubplot:ylabel='Frequency'>"
      ]
     },
     "execution_count": 38,
     "metadata": {},
     "output_type": "execute_result"
    },
    {
     "data": {
      "image/png": "[encoded data removed]",
      "text/plain": [
       "<Figure size 432x288 with 1 Axes>"
      ]
     },
     "metadata": {
      "needs_background": "light"
     },
     "output_type": "display_data"
    }
   ],
   "source": [
    "pd.DataFrame({'Default': data.groupby('Default').get_group(0).Edad,'No Default':   data.groupby('Default').get_group(1).Edad}).plot.hist(stacked=True)"
   ]
  },
  {
   "cell_type": "code",
   "execution_count": 89,
   "metadata": {},
   "outputs": [
    {
     "name": "stdout",
     "output_type": "stream",
     "text": [
      "    Porcentaje_salario  Historial_Crediticio  Edad\n",
      "0                    1                     0     6\n",
      "1                    1                     1     7\n",
      "2                    1                     2    76\n",
      "3                    1                     3    12\n",
      "4                    1                     4    35\n",
      "5                    2                     0    14\n",
      "6                    2                     1     8\n",
      "7                    2                     2   121\n",
      "8                    2                     3    22\n",
      "9                    2                     4    66\n",
      "10                   3                     0     7\n",
      "11                   3                     1     6\n",
      "12                   3                     2    86\n",
      "13                   3                     3    15\n",
      "14                   3                     4    43\n",
      "15                   4                     0    13\n",
      "16                   4                     1    28\n",
      "17                   4                     2   247\n",
      "18                   4                     3    39\n",
      "19                   4                     4   149\n",
      "Porcentaje_salario     1    2   3    4\n",
      "Historial_Crediticio                  \n",
      "0                      6   14   7   13\n",
      "1                      7    8   6   28\n",
      "2                     76  121  86  247\n",
      "3                     12   22  15   39\n",
      "4                     35   66  43  149\n"
     ]
    },
    {
     "data": {
      "text/plain": [
       "<AxesSubplot:xlabel='Porcentaje_salario', ylabel='Historial_Crediticio'>"
      ]
     },
     "execution_count": 89,
     "metadata": {},
     "output_type": "execute_result"
    },
    {
     "data": {
      "image/png": "[encoded data removed]",
      "text/plain": [
       "<Figure size 432x288 with 2 Axes>"
      ]
     },
     "metadata": {
      "needs_background": "light"
     },
     "output_type": "display_data"
    }
   ],
   "source": [
    "\n",
    "#data_4 = pd.DataFrame({'Duracion': data.groupby('Duracion').get_group(0).Historial_Crediticio})\n",
    "\n",
    "data_5=data[['Proposito','Historial_Crediticio','Edad']]\n",
    "\n",
    "data_6= data_5.groupby(['Proposito','Historial_Crediticio'], as_index=False)[\"Edad\"].count()\n",
    "\n",
    "\n",
    "\n",
    "#data_7 = pd.DataFrame(data_6, columns=['Duracion', 'Historial Crediticio','Conteo'])\n",
    "\n",
    "print(data_6)\n",
    "\n",
    "df2=data_6.pivot(index='Historial_Crediticio', columns='Proposito', values='Edad')\n",
    "df2\n",
    "\n",
    "df2.fillna(0)\n",
    "\n",
    "#data_5_melt=pd.melt(data_5, id_vars=[‘Duracion’],value_vars=[‘Historial_Crediticio’],var_name=’DurationType’,value_name=’Duration’)\n",
    "#data_5_melt\n",
    "\n",
    "print(df2)\n",
    "#print(data_6)\n",
    "#data_3=data[['Historial_Crediticio','Duracion']]\n",
    "#print(data_4)\n",
    "#sns.heatmap(data_3)\n",
    "\n",
    "#data_5= data.groupby(\"\", sort=False)[\"last_name\"].count()\n",
    "\n",
    "#data_3=data[['Historial_Crediticio','Duracion']]\n",
    "#print(data_4)\n",
    "sns.heatmap(df2)"
   ]
  },
  {
   "cell_type": "code",
   "execution_count": null,
   "metadata": {},
   "outputs": [],
   "source": []
  }
 ],
 "metadata": {
  "interpreter": {
   "hash": "32a8d71c4defd0b890fb8929203fa50bb38adab31cac91f56f745da530bb53d5"
  },
  "kernelspec": {
   "display_name": "Python 3.10.4 64-bit",
   "language": "python",
   "name": "python3"
  },
  "language_info": {
   "codemirror_mode": {
    "name": "ipython",
    "version": 3
   },
   "file_extension": ".py",
   "mimetype": "text/x-python",
   "name": "python",
   "nbconvert_exporter": "python",
   "pygments_lexer": "ipython3",
   "version": "3.10.4"
  },
  "orig_nbformat": 4
 },
 "nbformat": 4,
 "nbformat_minor": 2
}
