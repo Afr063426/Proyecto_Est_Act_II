{
 "cells": [
  {
   "cell_type": "code",
   "execution_count": 23,
   "metadata": {},
   "outputs": [
    {
     "name": "stdout",
     "output_type": "stream",
     "text": [
      "   laufkont  laufzeit  moral  verw  hoehe  sparkont  beszeit  rate  famges  \\\n",
      "0         1        18      4     2   1049         1        2     4       2   \n",
      "1         1         9      4     0   2799         1        3     2       3   \n",
      "2         2        12      2     9    841         2        4     2       2   \n",
      "3         1        12      4     0   2122         1        3     3       3   \n",
      "4         1        12      4     0   2171         1        3     4       3   \n",
      "\n",
      "   buerge  ...  verm  alter  weitkred  wohn  bishkred  beruf  pers  telef  \\\n",
      "0       1  ...     2     21         3     1         1      3     2      1   \n",
      "1       1  ...     1     36         3     1         2      3     1      1   \n",
      "2       1  ...     1     23         3     1         1      2     2      1   \n",
      "3       1  ...     1     39         3     1         2      2     1      1   \n",
      "4       1  ...     2     38         1     2         2      2     2      1   \n",
      "\n",
      "   gastarb  kredit  \n",
      "0        2       1  \n",
      "1        2       1  \n",
      "2        2       1  \n",
      "3        1       1  \n",
      "4        1       1  \n",
      "\n",
      "[5 rows x 21 columns]\n"
     ]
    },
    {
     "name": "stderr",
     "output_type": "stream",
     "text": [
      "C:\\Users\\saac9\\AppData\\Local\\Programs\\Python\\Python310\\lib\\site-packages\\IPython\\core\\interactiveshell.py:3369: FutureWarning: In a future version of pandas all arguments of read_csv except for the argument 'filepath_or_buffer' will be keyword-only.\n",
      "  exec(code_obj, self.user_global_ns, self.user_ns)\n"
     ]
    }
   ],
   "source": [
    "import pandas as pd\n",
    "from tabulate import tabulate\n",
    "\n",
    "file=\"SouthGermanCredit.asc\"\n",
    "data=pd.read_csv(file,\" \")\n",
    "print(data.head(5))\n",
    "#print(tabulate(data.head(5),headers='keys',tablefmt='latex_longtable'))\n"
   ]
  }
 ],
 "metadata": {
  "interpreter": {
   "hash": "183aea3ea780f756875aa102427dec8804cee0f6d10eba85c2fe1066a3eaed01"
  },
  "kernelspec": {
   "display_name": "Python 3.10.4 64-bit",
   "language": "python",
   "name": "python3"
  },
  "language_info": {
   "codemirror_mode": {
    "name": "ipython",
    "version": 3
   },
   "file_extension": ".py",
   "mimetype": "text/x-python",
   "name": "python",
   "nbconvert_exporter": "python",
   "pygments_lexer": "ipython3",
   "version": "3.10.4"
  },
  "orig_nbformat": 4
 },
 "nbformat": 4,
 "nbformat_minor": 2
}
