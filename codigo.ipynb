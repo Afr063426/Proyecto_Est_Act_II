{
 "cells": [
  {
   "cell_type": "code",
   "execution_count": 3,
   "metadata": {},
   "outputs": [
    {
     "name": "stdout",
     "output_type": "stream",
     "text": [
      "   Status  Duracion  Historial_Crediticio  Proposito  Monto  Ahorros  beszeit  \\\n",
      "0       1        18                     4          2   1049        1        2   \n",
      "1       1         9                     4          0   2799        1        3   \n",
      "2       2        12                     2          9    841        2        4   \n",
      "3       1        12                     4          0   2122        1        3   \n",
      "4       1        12                     4          0   2171        1        3   \n",
      "\n",
      "   Porcentaje_salario  Estado_civil_sexo  buerge  ...  Propiedad_valiosa  \\\n",
      "0                   4                  2       1  ...                  2   \n",
      "1                   2                  3       1  ...                  1   \n",
      "2                   2                  2       1  ...                  1   \n",
      "3                   3                  3       1  ...                  1   \n",
      "4                   4                  3       1  ...                  2   \n",
      "\n",
      "   Edad  weitkred  Residencia  Creditos_banco  Empleo  Personas_dependientes  \\\n",
      "0    21         3           1               1       3                      2   \n",
      "1    36         3           1               2       3                      1   \n",
      "2    23         3           1               1       2                      2   \n",
      "3    39         3           1               2       2                      1   \n",
      "4    38         1           2               2       2                      2   \n",
      "\n",
      "   Telefono  Extranjero  Default  \n",
      "0         1           2        1  \n",
      "1         1           2        1  \n",
      "2         1           2        1  \n",
      "3         1           1        1  \n",
      "4         1           1        1  \n",
      "\n",
      "[5 rows x 21 columns]\n"
     ]
    },
    {
     "name": "stderr",
     "output_type": "stream",
     "text": [
      "c:\\Users\\saac9\\AppData\\Local\\Programs\\Python\\Python310\\lib\\site-packages\\IPython\\core\\interactiveshell.py:3397: FutureWarning: In a future version of pandas all arguments of read_csv except for the argument 'filepath_or_buffer' will be keyword-only.\n",
      "  exec(code_obj, self.user_global_ns, self.user_ns)\n"
     ]
    }
   ],
   "source": [
    "##We load the packages used at the work\n",
    "##We are going to use as rule pd for Pandas\n",
    "##If you are going to use Matplotlib, Numpy or\n",
    "##other, you should search how to name them \n",
    "## as rule.\n",
    "##For keep the order you can use prettier\n",
    "## in vscode\n",
    "\n",
    "##Pandas is similar to tidyverse\n",
    "import pandas as pd \n",
    "##The next package is used to format tables\n",
    "##In the next lines you can watch how to use it\n",
    "from tabulate import tabulate\n",
    "\n",
    "\n",
    "\n",
    "##La tabla que vamos a emplear es esta, las demás han\n",
    "##sido eliminadas\n",
    "file=\"SouthGermanCredit.asc\"\n",
    "data=pd.read_csv(file,\" \")\n",
    "\n",
    "##We are going to change the name of the variables \n",
    "##because in German is difficult to us work.\n",
    "names={'laufkont':'Status',\n",
    "        'laufzeit':'Duracion',\n",
    "        'moral':'Historial_Crediticio',\n",
    "        'verw':'Proposito',\n",
    "        'hoehe':'Monto',\n",
    "        'sparkont':'Ahorros',\n",
    "        'beseit':'Tiempo_trabajando',\n",
    "        'rate':'Porcentaje_salario',\n",
    "        'famges':'Estado_civil_sexo',\n",
    "        'buerger':'Otros_deudores',\n",
    "        'wohnzeit':'Residencia',\n",
    "        'verm':'Propiedad_valiosa',\n",
    "        'alter':'Edad',\n",
    "        'other_installment_plans':'Otra_deuda',\n",
    "        'wohn':'Residencia',\n",
    "        'bishkred':'Creditos_banco',\n",
    "        'beruf':'Empleo',\n",
    "        'pers':'Personas_dependientes',\n",
    "        'telef':'Telefono',\n",
    "        'gastarb':'Extranjero',\n",
    "        'kredit':'Default'}\n",
    "\n",
    "\n",
    "data.rename(columns=names,inplace=True)\n",
    "print(data.head(5))\n",
    "#print(tabulate(data.head(5),headers='keys',tablefmt='latex_longtable'))\n"
   ]
  },
  {
   "cell_type": "code",
   "execution_count": 4,
   "metadata": {},
   "outputs": [],
   "source": [
    "##We are going to construct the tables\n",
    "##here"
   ]
  }
 ],
 "metadata": {
  "interpreter": {
   "hash": "32a8d71c4defd0b890fb8929203fa50bb38adab31cac91f56f745da530bb53d5"
  },
  "kernelspec": {
   "display_name": "Python 3.10.4 64-bit",
   "language": "python",
   "name": "python3"
  },
  "language_info": {
   "codemirror_mode": {
    "name": "ipython",
    "version": 3
   },
   "file_extension": ".py",
   "mimetype": "text/x-python",
   "name": "python",
   "nbconvert_exporter": "python",
   "pygments_lexer": "ipython3",
   "version": "3.10.4"
  },
  "orig_nbformat": 4
 },
 "nbformat": 4,
 "nbformat_minor": 2
}
